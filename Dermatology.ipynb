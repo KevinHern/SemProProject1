{
  "nbformat": 4,
  "nbformat_minor": 0,
  "metadata": {
    "colab": {
      "name": "Dermatology.ipynb",
      "provenance": [],
      "collapsed_sections": [],
      "toc_visible": true,
      "include_colab_link": true
    },
    "kernelspec": {
      "name": "python3",
      "display_name": "Python 3"
    }
  },
  "cells": [
    {
      "cell_type": "markdown",
      "metadata": {
        "id": "view-in-github",
        "colab_type": "text"
      },
      "source": [
        "<a href=\"https://colab.research.google.com/github/KevinHern/SemProProject1/blob/master/Dermatology.ipynb\" target=\"_parent\"><img src=\"https://colab.research.google.com/assets/colab-badge.svg\" alt=\"Open In Colab\"/></a>"
      ]
    },
    {
      "cell_type": "markdown",
      "metadata": {
        "id": "f-jHyHSwTeIG",
        "colab_type": "text"
      },
      "source": [
        "# Librerías"
      ]
    },
    {
      "cell_type": "code",
      "metadata": {
        "id": "HtHAuPSa5Rpp",
        "colab_type": "code",
        "outputId": "dd185365-46f3-4562-ecd7-d74267f11e04",
        "colab": {
          "base_uri": "https://localhost:8080/",
          "height": 34
        }
      },
      "source": [
        "%tensorflow_version 2.x\n",
        "\n",
        "import tensorflow as tf\n",
        "import tensorflow_hub as hub\n",
        "\n",
        "from tensorflow.keras import Sequential\n",
        "from tensorflow.keras.utils import get_file\n",
        "from tensorflow.keras.applications import ResNet50V2\n",
        "from tensorflow.keras.layers import Dense, GlobalAveragePooling2D, Flatten\n",
        "from tensorflow.keras.preprocessing.image import ImageDataGenerator\n",
        "\n",
        "\n",
        "import os\n",
        "import shutil\n",
        "import numpy as np\n",
        "import PIL.Image as Image\n",
        "import matplotlib.pyplot as plt\n",
        "import pandas as pd\n",
        "import seaborn as sns\n",
        "import math\n",
        "\n",
        "\n",
        "seed=1234\n",
        "np.random.seed(seed)\n",
        "tf.random.set_seed(seed)"
      ],
      "execution_count": 1,
      "outputs": [
        {
          "output_type": "stream",
          "text": [
            "TensorFlow 2.x selected.\n"
          ],
          "name": "stdout"
        }
      ]
    },
    {
      "cell_type": "markdown",
      "metadata": {
        "id": "I7AKjNq-TkuM",
        "colab_type": "text"
      },
      "source": [
        "# Dataset"
      ]
    },
    {
      "cell_type": "markdown",
      "metadata": {
        "id": "J2IeGb7CT3OR",
        "colab_type": "text"
      },
      "source": [
        "## Extracting"
      ]
    },
    {
      "cell_type": "code",
      "metadata": {
        "id": "XH-YqTSB_Phm",
        "colab_type": "code",
        "colab": {}
      },
      "source": [
        "df = pd.read_csv('https://raw.githubusercontent.com/KevinHern/SemProProject1/master/dermatology.csv')"
      ],
      "execution_count": 0,
      "outputs": []
    },
    {
      "cell_type": "markdown",
      "metadata": {
        "id": "wKpSISAoT5U7",
        "colab_type": "text"
      },
      "source": [
        "## Getting to know the Dataset"
      ]
    },
    {
      "cell_type": "code",
      "metadata": {
        "id": "D73Um3Fs_0Cb",
        "colab_type": "code",
        "outputId": "0d06cfed-93dd-48fa-d9bc-2ecbb5755603",
        "colab": {
          "base_uri": "https://localhost:8080/",
          "height": 204
        }
      },
      "source": [
        "df.head()"
      ],
      "execution_count": 3,
      "outputs": [
        {
          "output_type": "execute_result",
          "data": {
            "text/html": [
              "<div>\n",
              "<style scoped>\n",
              "    .dataframe tbody tr th:only-of-type {\n",
              "        vertical-align: middle;\n",
              "    }\n",
              "\n",
              "    .dataframe tbody tr th {\n",
              "        vertical-align: top;\n",
              "    }\n",
              "\n",
              "    .dataframe thead th {\n",
              "        text-align: right;\n",
              "    }\n",
              "</style>\n",
              "<table border=\"1\" class=\"dataframe\">\n",
              "  <thead>\n",
              "    <tr style=\"text-align: right;\">\n",
              "      <th></th>\n",
              "      <th>2</th>\n",
              "      <th>2.1</th>\n",
              "      <th>0</th>\n",
              "      <th>3</th>\n",
              "      <th>0.1</th>\n",
              "      <th>0.2</th>\n",
              "      <th>0.3</th>\n",
              "      <th>0.4</th>\n",
              "      <th>1</th>\n",
              "      <th>0.5</th>\n",
              "      <th>0.6</th>\n",
              "      <th>0.7</th>\n",
              "      <th>0.8</th>\n",
              "      <th>0.9</th>\n",
              "      <th>0.10</th>\n",
              "      <th>3.1</th>\n",
              "      <th>2.2</th>\n",
              "      <th>0.11</th>\n",
              "      <th>0.12</th>\n",
              "      <th>0.13</th>\n",
              "      <th>0.14</th>\n",
              "      <th>0.15</th>\n",
              "      <th>0.16</th>\n",
              "      <th>0.17</th>\n",
              "      <th>0.18</th>\n",
              "      <th>0.19</th>\n",
              "      <th>0.20</th>\n",
              "      <th>3.2</th>\n",
              "      <th>0.21</th>\n",
              "      <th>0.22</th>\n",
              "      <th>0.23</th>\n",
              "      <th>1.1</th>\n",
              "      <th>0.24</th>\n",
              "      <th>55</th>\n",
              "      <th>2.3</th>\n",
              "    </tr>\n",
              "  </thead>\n",
              "  <tbody>\n",
              "    <tr>\n",
              "      <th>0</th>\n",
              "      <td>3</td>\n",
              "      <td>3</td>\n",
              "      <td>3</td>\n",
              "      <td>2</td>\n",
              "      <td>1</td>\n",
              "      <td>0</td>\n",
              "      <td>0</td>\n",
              "      <td>0</td>\n",
              "      <td>1</td>\n",
              "      <td>1</td>\n",
              "      <td>1</td>\n",
              "      <td>0</td>\n",
              "      <td>0</td>\n",
              "      <td>1</td>\n",
              "      <td>0</td>\n",
              "      <td>1</td>\n",
              "      <td>2</td>\n",
              "      <td>0</td>\n",
              "      <td>2</td>\n",
              "      <td>2</td>\n",
              "      <td>2</td>\n",
              "      <td>2</td>\n",
              "      <td>2</td>\n",
              "      <td>1</td>\n",
              "      <td>0</td>\n",
              "      <td>0</td>\n",
              "      <td>0</td>\n",
              "      <td>0</td>\n",
              "      <td>0</td>\n",
              "      <td>0</td>\n",
              "      <td>0</td>\n",
              "      <td>1</td>\n",
              "      <td>0</td>\n",
              "      <td>8</td>\n",
              "      <td>1</td>\n",
              "    </tr>\n",
              "    <tr>\n",
              "      <th>1</th>\n",
              "      <td>2</td>\n",
              "      <td>1</td>\n",
              "      <td>2</td>\n",
              "      <td>3</td>\n",
              "      <td>1</td>\n",
              "      <td>3</td>\n",
              "      <td>0</td>\n",
              "      <td>3</td>\n",
              "      <td>0</td>\n",
              "      <td>0</td>\n",
              "      <td>0</td>\n",
              "      <td>1</td>\n",
              "      <td>0</td>\n",
              "      <td>0</td>\n",
              "      <td>0</td>\n",
              "      <td>1</td>\n",
              "      <td>2</td>\n",
              "      <td>0</td>\n",
              "      <td>2</td>\n",
              "      <td>0</td>\n",
              "      <td>0</td>\n",
              "      <td>0</td>\n",
              "      <td>0</td>\n",
              "      <td>0</td>\n",
              "      <td>2</td>\n",
              "      <td>0</td>\n",
              "      <td>2</td>\n",
              "      <td>3</td>\n",
              "      <td>2</td>\n",
              "      <td>0</td>\n",
              "      <td>0</td>\n",
              "      <td>2</td>\n",
              "      <td>3</td>\n",
              "      <td>26</td>\n",
              "      <td>3</td>\n",
              "    </tr>\n",
              "    <tr>\n",
              "      <th>2</th>\n",
              "      <td>2</td>\n",
              "      <td>2</td>\n",
              "      <td>2</td>\n",
              "      <td>0</td>\n",
              "      <td>0</td>\n",
              "      <td>0</td>\n",
              "      <td>0</td>\n",
              "      <td>0</td>\n",
              "      <td>3</td>\n",
              "      <td>2</td>\n",
              "      <td>0</td>\n",
              "      <td>0</td>\n",
              "      <td>0</td>\n",
              "      <td>3</td>\n",
              "      <td>0</td>\n",
              "      <td>0</td>\n",
              "      <td>2</td>\n",
              "      <td>0</td>\n",
              "      <td>3</td>\n",
              "      <td>2</td>\n",
              "      <td>2</td>\n",
              "      <td>2</td>\n",
              "      <td>2</td>\n",
              "      <td>0</td>\n",
              "      <td>0</td>\n",
              "      <td>3</td>\n",
              "      <td>0</td>\n",
              "      <td>0</td>\n",
              "      <td>0</td>\n",
              "      <td>0</td>\n",
              "      <td>0</td>\n",
              "      <td>3</td>\n",
              "      <td>0</td>\n",
              "      <td>40</td>\n",
              "      <td>1</td>\n",
              "    </tr>\n",
              "    <tr>\n",
              "      <th>3</th>\n",
              "      <td>2</td>\n",
              "      <td>3</td>\n",
              "      <td>2</td>\n",
              "      <td>2</td>\n",
              "      <td>2</td>\n",
              "      <td>2</td>\n",
              "      <td>0</td>\n",
              "      <td>2</td>\n",
              "      <td>0</td>\n",
              "      <td>0</td>\n",
              "      <td>0</td>\n",
              "      <td>1</td>\n",
              "      <td>0</td>\n",
              "      <td>0</td>\n",
              "      <td>0</td>\n",
              "      <td>1</td>\n",
              "      <td>2</td>\n",
              "      <td>0</td>\n",
              "      <td>0</td>\n",
              "      <td>0</td>\n",
              "      <td>0</td>\n",
              "      <td>0</td>\n",
              "      <td>0</td>\n",
              "      <td>0</td>\n",
              "      <td>2</td>\n",
              "      <td>2</td>\n",
              "      <td>3</td>\n",
              "      <td>2</td>\n",
              "      <td>3</td>\n",
              "      <td>0</td>\n",
              "      <td>0</td>\n",
              "      <td>2</td>\n",
              "      <td>3</td>\n",
              "      <td>45</td>\n",
              "      <td>3</td>\n",
              "    </tr>\n",
              "    <tr>\n",
              "      <th>4</th>\n",
              "      <td>2</td>\n",
              "      <td>3</td>\n",
              "      <td>2</td>\n",
              "      <td>0</td>\n",
              "      <td>0</td>\n",
              "      <td>0</td>\n",
              "      <td>0</td>\n",
              "      <td>0</td>\n",
              "      <td>0</td>\n",
              "      <td>0</td>\n",
              "      <td>0</td>\n",
              "      <td>0</td>\n",
              "      <td>2</td>\n",
              "      <td>1</td>\n",
              "      <td>0</td>\n",
              "      <td>2</td>\n",
              "      <td>2</td>\n",
              "      <td>0</td>\n",
              "      <td>2</td>\n",
              "      <td>0</td>\n",
              "      <td>0</td>\n",
              "      <td>0</td>\n",
              "      <td>1</td>\n",
              "      <td>0</td>\n",
              "      <td>0</td>\n",
              "      <td>0</td>\n",
              "      <td>0</td>\n",
              "      <td>2</td>\n",
              "      <td>0</td>\n",
              "      <td>0</td>\n",
              "      <td>0</td>\n",
              "      <td>1</td>\n",
              "      <td>0</td>\n",
              "      <td>41</td>\n",
              "      <td>2</td>\n",
              "    </tr>\n",
              "  </tbody>\n",
              "</table>\n",
              "</div>"
            ],
            "text/plain": [
              "   2  2.1  0  3  0.1  0.2  0.3  0.4  ...  3.2  0.21  0.22  0.23  1.1  0.24  55  2.3\n",
              "0  3    3  3  2    1    0    0    0  ...    0     0     0     0    1     0   8    1\n",
              "1  2    1  2  3    1    3    0    3  ...    3     2     0     0    2     3  26    3\n",
              "2  2    2  2  0    0    0    0    0  ...    0     0     0     0    3     0  40    1\n",
              "3  2    3  2  2    2    2    0    2  ...    2     3     0     0    2     3  45    3\n",
              "4  2    3  2  0    0    0    0    0  ...    2     0     0     0    1     0  41    2\n",
              "\n",
              "[5 rows x 35 columns]"
            ]
          },
          "metadata": {
            "tags": []
          },
          "execution_count": 3
        }
      ]
    },
    {
      "cell_type": "code",
      "metadata": {
        "id": "MQ9y8Ty3_6L_",
        "colab_type": "code",
        "colab": {}
      },
      "source": [
        "df.columns = ['erythema', 'scaling', 'definite borders', 'itching', 'koebner phenomenon', \n",
        "              'polygonal papules', 'follicular papules', 'oral mucosal involvement', \n",
        "              'knee and elbow involvement', 'scalp involvement', 'history', \n",
        "               'melanin incontinence', 'eosinophils in the infiltrate', 'PNL infiltrate', \n",
        "              'fibrosis of the papillary dermis', 'exocytosis', 'acanthosis', 'hyperkeratosis', \n",
        "              'parakeratosis', 'clubbing of the rete ridges', 'elongation of the rete ridges', \n",
        "              'thinning of the suprapapillary epidermis', 'spongiform pustule', 'munro microabcess',\n",
        "              'focal hypergranulosis', 'disappearance of the granular layer', \n",
        "              'vacuolisation and damage of basal layer', 'spongiosis', \n",
        "              'saw-tooth appearance of retes', 'follicular horn plug', \n",
        "              'perifollicular parakeratosis', 'inflammatory monoluclear inflitrate', 'band-like infiltrate','Age', 'Classcode']\n",
        "df['Classcode'] = df['Classcode'] - 1"
      ],
      "execution_count": 0,
      "outputs": []
    },
    {
      "cell_type": "code",
      "metadata": {
        "id": "1kvBh5pPCKfd",
        "colab_type": "code",
        "outputId": "f2b463b3-dcda-4277-9bb8-3d8d23e7dcc7",
        "colab": {
          "base_uri": "https://localhost:8080/",
          "height": 490
        }
      },
      "source": [
        "df"
      ],
      "execution_count": 5,
      "outputs": [
        {
          "output_type": "execute_result",
          "data": {
            "text/html": [
              "<div>\n",
              "<style scoped>\n",
              "    .dataframe tbody tr th:only-of-type {\n",
              "        vertical-align: middle;\n",
              "    }\n",
              "\n",
              "    .dataframe tbody tr th {\n",
              "        vertical-align: top;\n",
              "    }\n",
              "\n",
              "    .dataframe thead th {\n",
              "        text-align: right;\n",
              "    }\n",
              "</style>\n",
              "<table border=\"1\" class=\"dataframe\">\n",
              "  <thead>\n",
              "    <tr style=\"text-align: right;\">\n",
              "      <th></th>\n",
              "      <th>erythema</th>\n",
              "      <th>scaling</th>\n",
              "      <th>definite borders</th>\n",
              "      <th>itching</th>\n",
              "      <th>koebner phenomenon</th>\n",
              "      <th>polygonal papules</th>\n",
              "      <th>follicular papules</th>\n",
              "      <th>oral mucosal involvement</th>\n",
              "      <th>knee and elbow involvement</th>\n",
              "      <th>scalp involvement</th>\n",
              "      <th>history</th>\n",
              "      <th>melanin incontinence</th>\n",
              "      <th>eosinophils in the infiltrate</th>\n",
              "      <th>PNL infiltrate</th>\n",
              "      <th>fibrosis of the papillary dermis</th>\n",
              "      <th>exocytosis</th>\n",
              "      <th>acanthosis</th>\n",
              "      <th>hyperkeratosis</th>\n",
              "      <th>parakeratosis</th>\n",
              "      <th>clubbing of the rete ridges</th>\n",
              "      <th>elongation of the rete ridges</th>\n",
              "      <th>thinning of the suprapapillary epidermis</th>\n",
              "      <th>spongiform pustule</th>\n",
              "      <th>munro microabcess</th>\n",
              "      <th>focal hypergranulosis</th>\n",
              "      <th>disappearance of the granular layer</th>\n",
              "      <th>vacuolisation and damage of basal layer</th>\n",
              "      <th>spongiosis</th>\n",
              "      <th>saw-tooth appearance of retes</th>\n",
              "      <th>follicular horn plug</th>\n",
              "      <th>perifollicular parakeratosis</th>\n",
              "      <th>inflammatory monoluclear inflitrate</th>\n",
              "      <th>band-like infiltrate</th>\n",
              "      <th>Age</th>\n",
              "      <th>Classcode</th>\n",
              "    </tr>\n",
              "  </thead>\n",
              "  <tbody>\n",
              "    <tr>\n",
              "      <th>0</th>\n",
              "      <td>3</td>\n",
              "      <td>3</td>\n",
              "      <td>3</td>\n",
              "      <td>2</td>\n",
              "      <td>1</td>\n",
              "      <td>0</td>\n",
              "      <td>0</td>\n",
              "      <td>0</td>\n",
              "      <td>1</td>\n",
              "      <td>1</td>\n",
              "      <td>1</td>\n",
              "      <td>0</td>\n",
              "      <td>0</td>\n",
              "      <td>1</td>\n",
              "      <td>0</td>\n",
              "      <td>1</td>\n",
              "      <td>2</td>\n",
              "      <td>0</td>\n",
              "      <td>2</td>\n",
              "      <td>2</td>\n",
              "      <td>2</td>\n",
              "      <td>2</td>\n",
              "      <td>2</td>\n",
              "      <td>1</td>\n",
              "      <td>0</td>\n",
              "      <td>0</td>\n",
              "      <td>0</td>\n",
              "      <td>0</td>\n",
              "      <td>0</td>\n",
              "      <td>0</td>\n",
              "      <td>0</td>\n",
              "      <td>1</td>\n",
              "      <td>0</td>\n",
              "      <td>8</td>\n",
              "      <td>0</td>\n",
              "    </tr>\n",
              "    <tr>\n",
              "      <th>1</th>\n",
              "      <td>2</td>\n",
              "      <td>1</td>\n",
              "      <td>2</td>\n",
              "      <td>3</td>\n",
              "      <td>1</td>\n",
              "      <td>3</td>\n",
              "      <td>0</td>\n",
              "      <td>3</td>\n",
              "      <td>0</td>\n",
              "      <td>0</td>\n",
              "      <td>0</td>\n",
              "      <td>1</td>\n",
              "      <td>0</td>\n",
              "      <td>0</td>\n",
              "      <td>0</td>\n",
              "      <td>1</td>\n",
              "      <td>2</td>\n",
              "      <td>0</td>\n",
              "      <td>2</td>\n",
              "      <td>0</td>\n",
              "      <td>0</td>\n",
              "      <td>0</td>\n",
              "      <td>0</td>\n",
              "      <td>0</td>\n",
              "      <td>2</td>\n",
              "      <td>0</td>\n",
              "      <td>2</td>\n",
              "      <td>3</td>\n",
              "      <td>2</td>\n",
              "      <td>0</td>\n",
              "      <td>0</td>\n",
              "      <td>2</td>\n",
              "      <td>3</td>\n",
              "      <td>26</td>\n",
              "      <td>2</td>\n",
              "    </tr>\n",
              "    <tr>\n",
              "      <th>2</th>\n",
              "      <td>2</td>\n",
              "      <td>2</td>\n",
              "      <td>2</td>\n",
              "      <td>0</td>\n",
              "      <td>0</td>\n",
              "      <td>0</td>\n",
              "      <td>0</td>\n",
              "      <td>0</td>\n",
              "      <td>3</td>\n",
              "      <td>2</td>\n",
              "      <td>0</td>\n",
              "      <td>0</td>\n",
              "      <td>0</td>\n",
              "      <td>3</td>\n",
              "      <td>0</td>\n",
              "      <td>0</td>\n",
              "      <td>2</td>\n",
              "      <td>0</td>\n",
              "      <td>3</td>\n",
              "      <td>2</td>\n",
              "      <td>2</td>\n",
              "      <td>2</td>\n",
              "      <td>2</td>\n",
              "      <td>0</td>\n",
              "      <td>0</td>\n",
              "      <td>3</td>\n",
              "      <td>0</td>\n",
              "      <td>0</td>\n",
              "      <td>0</td>\n",
              "      <td>0</td>\n",
              "      <td>0</td>\n",
              "      <td>3</td>\n",
              "      <td>0</td>\n",
              "      <td>40</td>\n",
              "      <td>0</td>\n",
              "    </tr>\n",
              "    <tr>\n",
              "      <th>3</th>\n",
              "      <td>2</td>\n",
              "      <td>3</td>\n",
              "      <td>2</td>\n",
              "      <td>2</td>\n",
              "      <td>2</td>\n",
              "      <td>2</td>\n",
              "      <td>0</td>\n",
              "      <td>2</td>\n",
              "      <td>0</td>\n",
              "      <td>0</td>\n",
              "      <td>0</td>\n",
              "      <td>1</td>\n",
              "      <td>0</td>\n",
              "      <td>0</td>\n",
              "      <td>0</td>\n",
              "      <td>1</td>\n",
              "      <td>2</td>\n",
              "      <td>0</td>\n",
              "      <td>0</td>\n",
              "      <td>0</td>\n",
              "      <td>0</td>\n",
              "      <td>0</td>\n",
              "      <td>0</td>\n",
              "      <td>0</td>\n",
              "      <td>2</td>\n",
              "      <td>2</td>\n",
              "      <td>3</td>\n",
              "      <td>2</td>\n",
              "      <td>3</td>\n",
              "      <td>0</td>\n",
              "      <td>0</td>\n",
              "      <td>2</td>\n",
              "      <td>3</td>\n",
              "      <td>45</td>\n",
              "      <td>2</td>\n",
              "    </tr>\n",
              "    <tr>\n",
              "      <th>4</th>\n",
              "      <td>2</td>\n",
              "      <td>3</td>\n",
              "      <td>2</td>\n",
              "      <td>0</td>\n",
              "      <td>0</td>\n",
              "      <td>0</td>\n",
              "      <td>0</td>\n",
              "      <td>0</td>\n",
              "      <td>0</td>\n",
              "      <td>0</td>\n",
              "      <td>0</td>\n",
              "      <td>0</td>\n",
              "      <td>2</td>\n",
              "      <td>1</td>\n",
              "      <td>0</td>\n",
              "      <td>2</td>\n",
              "      <td>2</td>\n",
              "      <td>0</td>\n",
              "      <td>2</td>\n",
              "      <td>0</td>\n",
              "      <td>0</td>\n",
              "      <td>0</td>\n",
              "      <td>1</td>\n",
              "      <td>0</td>\n",
              "      <td>0</td>\n",
              "      <td>0</td>\n",
              "      <td>0</td>\n",
              "      <td>2</td>\n",
              "      <td>0</td>\n",
              "      <td>0</td>\n",
              "      <td>0</td>\n",
              "      <td>1</td>\n",
              "      <td>0</td>\n",
              "      <td>41</td>\n",
              "      <td>1</td>\n",
              "    </tr>\n",
              "    <tr>\n",
              "      <th>...</th>\n",
              "      <td>...</td>\n",
              "      <td>...</td>\n",
              "      <td>...</td>\n",
              "      <td>...</td>\n",
              "      <td>...</td>\n",
              "      <td>...</td>\n",
              "      <td>...</td>\n",
              "      <td>...</td>\n",
              "      <td>...</td>\n",
              "      <td>...</td>\n",
              "      <td>...</td>\n",
              "      <td>...</td>\n",
              "      <td>...</td>\n",
              "      <td>...</td>\n",
              "      <td>...</td>\n",
              "      <td>...</td>\n",
              "      <td>...</td>\n",
              "      <td>...</td>\n",
              "      <td>...</td>\n",
              "      <td>...</td>\n",
              "      <td>...</td>\n",
              "      <td>...</td>\n",
              "      <td>...</td>\n",
              "      <td>...</td>\n",
              "      <td>...</td>\n",
              "      <td>...</td>\n",
              "      <td>...</td>\n",
              "      <td>...</td>\n",
              "      <td>...</td>\n",
              "      <td>...</td>\n",
              "      <td>...</td>\n",
              "      <td>...</td>\n",
              "      <td>...</td>\n",
              "      <td>...</td>\n",
              "      <td>...</td>\n",
              "    </tr>\n",
              "    <tr>\n",
              "      <th>360</th>\n",
              "      <td>2</td>\n",
              "      <td>1</td>\n",
              "      <td>1</td>\n",
              "      <td>0</td>\n",
              "      <td>1</td>\n",
              "      <td>0</td>\n",
              "      <td>0</td>\n",
              "      <td>0</td>\n",
              "      <td>0</td>\n",
              "      <td>0</td>\n",
              "      <td>0</td>\n",
              "      <td>0</td>\n",
              "      <td>0</td>\n",
              "      <td>1</td>\n",
              "      <td>0</td>\n",
              "      <td>1</td>\n",
              "      <td>1</td>\n",
              "      <td>0</td>\n",
              "      <td>0</td>\n",
              "      <td>0</td>\n",
              "      <td>0</td>\n",
              "      <td>0</td>\n",
              "      <td>0</td>\n",
              "      <td>0</td>\n",
              "      <td>0</td>\n",
              "      <td>0</td>\n",
              "      <td>0</td>\n",
              "      <td>1</td>\n",
              "      <td>0</td>\n",
              "      <td>0</td>\n",
              "      <td>0</td>\n",
              "      <td>2</td>\n",
              "      <td>0</td>\n",
              "      <td>25</td>\n",
              "      <td>3</td>\n",
              "    </tr>\n",
              "    <tr>\n",
              "      <th>361</th>\n",
              "      <td>3</td>\n",
              "      <td>2</td>\n",
              "      <td>1</td>\n",
              "      <td>0</td>\n",
              "      <td>1</td>\n",
              "      <td>0</td>\n",
              "      <td>0</td>\n",
              "      <td>0</td>\n",
              "      <td>0</td>\n",
              "      <td>0</td>\n",
              "      <td>0</td>\n",
              "      <td>0</td>\n",
              "      <td>0</td>\n",
              "      <td>0</td>\n",
              "      <td>0</td>\n",
              "      <td>2</td>\n",
              "      <td>2</td>\n",
              "      <td>0</td>\n",
              "      <td>0</td>\n",
              "      <td>0</td>\n",
              "      <td>0</td>\n",
              "      <td>0</td>\n",
              "      <td>0</td>\n",
              "      <td>0</td>\n",
              "      <td>0</td>\n",
              "      <td>1</td>\n",
              "      <td>0</td>\n",
              "      <td>1</td>\n",
              "      <td>0</td>\n",
              "      <td>0</td>\n",
              "      <td>0</td>\n",
              "      <td>2</td>\n",
              "      <td>0</td>\n",
              "      <td>36</td>\n",
              "      <td>3</td>\n",
              "    </tr>\n",
              "    <tr>\n",
              "      <th>362</th>\n",
              "      <td>3</td>\n",
              "      <td>2</td>\n",
              "      <td>2</td>\n",
              "      <td>2</td>\n",
              "      <td>3</td>\n",
              "      <td>2</td>\n",
              "      <td>0</td>\n",
              "      <td>2</td>\n",
              "      <td>0</td>\n",
              "      <td>0</td>\n",
              "      <td>0</td>\n",
              "      <td>2</td>\n",
              "      <td>2</td>\n",
              "      <td>0</td>\n",
              "      <td>0</td>\n",
              "      <td>3</td>\n",
              "      <td>3</td>\n",
              "      <td>0</td>\n",
              "      <td>0</td>\n",
              "      <td>0</td>\n",
              "      <td>0</td>\n",
              "      <td>0</td>\n",
              "      <td>0</td>\n",
              "      <td>0</td>\n",
              "      <td>3</td>\n",
              "      <td>0</td>\n",
              "      <td>3</td>\n",
              "      <td>0</td>\n",
              "      <td>3</td>\n",
              "      <td>0</td>\n",
              "      <td>0</td>\n",
              "      <td>2</td>\n",
              "      <td>3</td>\n",
              "      <td>28</td>\n",
              "      <td>2</td>\n",
              "    </tr>\n",
              "    <tr>\n",
              "      <th>363</th>\n",
              "      <td>2</td>\n",
              "      <td>1</td>\n",
              "      <td>3</td>\n",
              "      <td>1</td>\n",
              "      <td>2</td>\n",
              "      <td>3</td>\n",
              "      <td>0</td>\n",
              "      <td>2</td>\n",
              "      <td>0</td>\n",
              "      <td>0</td>\n",
              "      <td>0</td>\n",
              "      <td>2</td>\n",
              "      <td>0</td>\n",
              "      <td>0</td>\n",
              "      <td>0</td>\n",
              "      <td>3</td>\n",
              "      <td>2</td>\n",
              "      <td>0</td>\n",
              "      <td>0</td>\n",
              "      <td>0</td>\n",
              "      <td>0</td>\n",
              "      <td>0</td>\n",
              "      <td>0</td>\n",
              "      <td>0</td>\n",
              "      <td>3</td>\n",
              "      <td>0</td>\n",
              "      <td>2</td>\n",
              "      <td>0</td>\n",
              "      <td>1</td>\n",
              "      <td>0</td>\n",
              "      <td>0</td>\n",
              "      <td>2</td>\n",
              "      <td>3</td>\n",
              "      <td>50</td>\n",
              "      <td>2</td>\n",
              "    </tr>\n",
              "    <tr>\n",
              "      <th>364</th>\n",
              "      <td>3</td>\n",
              "      <td>2</td>\n",
              "      <td>2</td>\n",
              "      <td>0</td>\n",
              "      <td>0</td>\n",
              "      <td>0</td>\n",
              "      <td>0</td>\n",
              "      <td>0</td>\n",
              "      <td>3</td>\n",
              "      <td>3</td>\n",
              "      <td>0</td>\n",
              "      <td>0</td>\n",
              "      <td>0</td>\n",
              "      <td>1</td>\n",
              "      <td>0</td>\n",
              "      <td>0</td>\n",
              "      <td>2</td>\n",
              "      <td>0</td>\n",
              "      <td>2</td>\n",
              "      <td>3</td>\n",
              "      <td>2</td>\n",
              "      <td>3</td>\n",
              "      <td>0</td>\n",
              "      <td>2</td>\n",
              "      <td>0</td>\n",
              "      <td>2</td>\n",
              "      <td>0</td>\n",
              "      <td>0</td>\n",
              "      <td>0</td>\n",
              "      <td>0</td>\n",
              "      <td>0</td>\n",
              "      <td>3</td>\n",
              "      <td>0</td>\n",
              "      <td>35</td>\n",
              "      <td>0</td>\n",
              "    </tr>\n",
              "  </tbody>\n",
              "</table>\n",
              "<p>365 rows × 35 columns</p>\n",
              "</div>"
            ],
            "text/plain": [
              "     erythema  scaling  definite borders  ...  band-like infiltrate  Age  Classcode\n",
              "0           3        3                 3  ...                     0    8          0\n",
              "1           2        1                 2  ...                     3   26          2\n",
              "2           2        2                 2  ...                     0   40          0\n",
              "3           2        3                 2  ...                     3   45          2\n",
              "4           2        3                 2  ...                     0   41          1\n",
              "..        ...      ...               ...  ...                   ...  ...        ...\n",
              "360         2        1                 1  ...                     0   25          3\n",
              "361         3        2                 1  ...                     0   36          3\n",
              "362         3        2                 2  ...                     3   28          2\n",
              "363         2        1                 3  ...                     3   50          2\n",
              "364         3        2                 2  ...                     0   35          0\n",
              "\n",
              "[365 rows x 35 columns]"
            ]
          },
          "metadata": {
            "tags": []
          },
          "execution_count": 5
        }
      ]
    },
    {
      "cell_type": "markdown",
      "metadata": {
        "id": "DHkUAPvzT98v",
        "colab_type": "text"
      },
      "source": [
        "## Cleaning Dataset"
      ]
    },
    {
      "cell_type": "code",
      "metadata": {
        "id": "ie4vB9ZmRC2E",
        "colab_type": "code",
        "outputId": "571ce5c2-509d-461f-d59c-78b6a3d510a2",
        "colab": {
          "base_uri": "https://localhost:8080/",
          "height": 34
        }
      },
      "source": [
        "temp = df[df['Age'] != '?']\n",
        "temp = temp.astype(int)\n",
        "meanAge = math.floor(temp['Age'].mean())\n",
        "meanAge"
      ],
      "execution_count": 6,
      "outputs": [
        {
          "output_type": "execute_result",
          "data": {
            "text/plain": [
              "36"
            ]
          },
          "metadata": {
            "tags": []
          },
          "execution_count": 6
        }
      ]
    },
    {
      "cell_type": "code",
      "metadata": {
        "id": "beOoKeECVL0n",
        "colab_type": "code",
        "outputId": "2e2c7571-55ce-4d2b-a2f0-ce3fd9cf8d85",
        "colab": {
          "base_uri": "https://localhost:8080/",
          "height": 120
        }
      },
      "source": [
        "df = df.replace('?', meanAge)\n",
        "df[df['Age'] == '?']"
      ],
      "execution_count": 7,
      "outputs": [
        {
          "output_type": "execute_result",
          "data": {
            "text/html": [
              "<div>\n",
              "<style scoped>\n",
              "    .dataframe tbody tr th:only-of-type {\n",
              "        vertical-align: middle;\n",
              "    }\n",
              "\n",
              "    .dataframe tbody tr th {\n",
              "        vertical-align: top;\n",
              "    }\n",
              "\n",
              "    .dataframe thead th {\n",
              "        text-align: right;\n",
              "    }\n",
              "</style>\n",
              "<table border=\"1\" class=\"dataframe\">\n",
              "  <thead>\n",
              "    <tr style=\"text-align: right;\">\n",
              "      <th></th>\n",
              "      <th>erythema</th>\n",
              "      <th>scaling</th>\n",
              "      <th>definite borders</th>\n",
              "      <th>itching</th>\n",
              "      <th>koebner phenomenon</th>\n",
              "      <th>polygonal papules</th>\n",
              "      <th>follicular papules</th>\n",
              "      <th>oral mucosal involvement</th>\n",
              "      <th>knee and elbow involvement</th>\n",
              "      <th>scalp involvement</th>\n",
              "      <th>history</th>\n",
              "      <th>melanin incontinence</th>\n",
              "      <th>eosinophils in the infiltrate</th>\n",
              "      <th>PNL infiltrate</th>\n",
              "      <th>fibrosis of the papillary dermis</th>\n",
              "      <th>exocytosis</th>\n",
              "      <th>acanthosis</th>\n",
              "      <th>hyperkeratosis</th>\n",
              "      <th>parakeratosis</th>\n",
              "      <th>clubbing of the rete ridges</th>\n",
              "      <th>elongation of the rete ridges</th>\n",
              "      <th>thinning of the suprapapillary epidermis</th>\n",
              "      <th>spongiform pustule</th>\n",
              "      <th>munro microabcess</th>\n",
              "      <th>focal hypergranulosis</th>\n",
              "      <th>disappearance of the granular layer</th>\n",
              "      <th>vacuolisation and damage of basal layer</th>\n",
              "      <th>spongiosis</th>\n",
              "      <th>saw-tooth appearance of retes</th>\n",
              "      <th>follicular horn plug</th>\n",
              "      <th>perifollicular parakeratosis</th>\n",
              "      <th>inflammatory monoluclear inflitrate</th>\n",
              "      <th>band-like infiltrate</th>\n",
              "      <th>Age</th>\n",
              "      <th>Classcode</th>\n",
              "    </tr>\n",
              "  </thead>\n",
              "  <tbody>\n",
              "  </tbody>\n",
              "</table>\n",
              "</div>"
            ],
            "text/plain": [
              "Empty DataFrame\n",
              "Columns: [erythema, scaling, definite borders, itching, koebner phenomenon, polygonal papules, follicular papules, oral mucosal involvement, knee and elbow involvement, scalp involvement, history, melanin incontinence, eosinophils in the infiltrate, PNL infiltrate, fibrosis of the papillary dermis, exocytosis, acanthosis, hyperkeratosis, parakeratosis, clubbing of the rete ridges, elongation of the rete ridges, thinning of the suprapapillary epidermis, spongiform pustule, munro microabcess, focal hypergranulosis, disappearance of the granular layer, vacuolisation and damage of basal layer, spongiosis, saw-tooth appearance of retes, follicular horn plug, perifollicular parakeratosis, inflammatory monoluclear inflitrate, band-like infiltrate, Age, Classcode]\n",
              "Index: []"
            ]
          },
          "metadata": {
            "tags": []
          },
          "execution_count": 7
        }
      ]
    },
    {
      "cell_type": "code",
      "metadata": {
        "id": "_AMS-3MpVZ1l",
        "colab_type": "code",
        "outputId": "b339a06e-090d-49e7-b1a1-590161a2e5bf",
        "colab": {
          "base_uri": "https://localhost:8080/",
          "height": 629
        }
      },
      "source": [
        "for i in df.columns:\n",
        "  df[i] = df[i].astype(int)\n",
        "df.dtypes"
      ],
      "execution_count": 8,
      "outputs": [
        {
          "output_type": "execute_result",
          "data": {
            "text/plain": [
              "erythema                                    int64\n",
              "scaling                                     int64\n",
              "definite borders                            int64\n",
              "itching                                     int64\n",
              "koebner phenomenon                          int64\n",
              "polygonal papules                           int64\n",
              "follicular papules                          int64\n",
              "oral mucosal involvement                    int64\n",
              "knee and elbow involvement                  int64\n",
              "scalp involvement                           int64\n",
              "history                                     int64\n",
              "melanin incontinence                        int64\n",
              "eosinophils in the infiltrate               int64\n",
              "PNL infiltrate                              int64\n",
              "fibrosis of the papillary dermis            int64\n",
              "exocytosis                                  int64\n",
              "acanthosis                                  int64\n",
              "hyperkeratosis                              int64\n",
              "parakeratosis                               int64\n",
              "clubbing of the rete ridges                 int64\n",
              "elongation of the rete ridges               int64\n",
              "thinning of the suprapapillary epidermis    int64\n",
              "spongiform pustule                          int64\n",
              "munro microabcess                           int64\n",
              "focal hypergranulosis                       int64\n",
              "disappearance of the granular layer         int64\n",
              "vacuolisation and damage of basal layer     int64\n",
              "spongiosis                                  int64\n",
              "saw-tooth appearance of retes               int64\n",
              "follicular horn plug                        int64\n",
              "perifollicular parakeratosis                int64\n",
              "inflammatory monoluclear inflitrate         int64\n",
              "band-like infiltrate                        int64\n",
              "Age                                         int64\n",
              "Classcode                                   int64\n",
              "dtype: object"
            ]
          },
          "metadata": {
            "tags": []
          },
          "execution_count": 8
        }
      ]
    },
    {
      "cell_type": "markdown",
      "metadata": {
        "id": "g3I-EWyUaA3E",
        "colab_type": "text"
      },
      "source": [
        "## Correlation"
      ]
    },
    {
      "cell_type": "code",
      "metadata": {
        "id": "Dag5Evb--yLV",
        "colab_type": "code",
        "outputId": "7466112e-ef40-4d74-b020-aa822c88b0f0",
        "colab": {
          "base_uri": "https://localhost:8080/",
          "height": 584
        }
      },
      "source": [
        "plt.figure(figsize=(18,6))\n",
        "sns.heatmap(df.isnull(), yticklabels=False, cbar=False, cmap='viridis', xticklabels=True)"
      ],
      "execution_count": 9,
      "outputs": [
        {
          "output_type": "execute_result",
          "data": {
            "text/plain": [
              "<matplotlib.axes._subplots.AxesSubplot at 0x7f3ae7195dd8>"
            ]
          },
          "metadata": {
            "tags": []
          },
          "execution_count": 9
        },
        {
          "output_type": "display_data",
          "data": {
            "image/png": "[encoded data removed]",
            "text/plain": [
              "<Figure size 1296x432 with 1 Axes>"
            ]
          },
          "metadata": {
            "tags": []
          }
        }
      ]
    },
    {
      "cell_type": "code",
      "metadata": {
        "id": "r9B_6zQ2idVH",
        "colab_type": "code",
        "colab": {}
      },
      "source": [
        "corr = df.corr()"
      ],
      "execution_count": 0,
      "outputs": []
    },
    {
      "cell_type": "code",
      "metadata": {
        "id": "UYUAqcTDihWc",
        "colab_type": "code",
        "outputId": "e2fd93fb-e85e-4211-b3f2-64f4850d74a1",
        "colab": {
          "base_uri": "https://localhost:8080/",
          "height": 914
        }
      },
      "source": [
        "plt.figure(figsize=(12,12))\n",
        "sns.heatmap(corr, linewidths=.5, cmap='viridis')"
      ],
      "execution_count": 11,
      "outputs": [
        {
          "output_type": "execute_result",
          "data": {
            "text/plain": [
              "<matplotlib.axes._subplots.AxesSubplot at 0x7f3ae7195a90>"
            ]
          },
          "metadata": {
            "tags": []
          },
          "execution_count": 11
        },
        {
          "output_type": "display_data",
          "data": {
            "image/png": "[encoded data removed]",
            "text/plain": [
              "<Figure size 864x864 with 2 Axes>"
            ]
          },
          "metadata": {
            "tags": []
          }
        }
      ]
    },
    {
      "cell_type": "markdown",
      "metadata": {
        "id": "_TZVA5rdaULE",
        "colab_type": "text"
      },
      "source": [
        "# Models\n",
        "\n",
        "Metodología:\n",
        "Queremos ver qué modelo tiene mejor Accuracy utilizando diversos conjuntos de features\n",
        "Se realizan 4 modelos:\n",
        "\n",
        "1.   Un modelo que utiliza todos los features del dataset.\n",
        "2.   Un modelo que utiliza únicamente los features clínicos\n",
        "3.   Un modelo que utiliza únicamente los datos histopatológicos\n",
        "4.   Un modelo que utiliza los features más importantes extraídos del heatmap\n",
        "\n",
        "El approach que se empleará para determinar qué arquitectura es la mejor continene las siguientes condiciones:\n",
        "\n",
        "*   Los 4 modelos se someterán a los mismos datasets\n",
        "*   Los 4 modelos tendrán las mismas arquitecturas para ser comparables. Las capas ocultas tendrán neuronas en potencias de 2\n",
        "*   Se realizarán 4 pruebas, donde cada prueba se utilizará una arquitectura distinta.\n",
        "\n",
        "\n",
        "\n",
        "\n",
        "\n"
      ]
    },
    {
      "cell_type": "markdown",
      "metadata": {
        "id": "ecm23VSrmyLm",
        "colab_type": "text"
      },
      "source": [
        "## Macro Variables\n",
        "Definición de variables macros que sirven para los epochs, validation split y batch size"
      ]
    },
    {
      "cell_type": "code",
      "metadata": {
        "id": "cU0CSDGFnAUB",
        "colab_type": "code",
        "colab": {}
      },
      "source": [
        "epochs = 5\n",
        "split = 0.2\n",
        "batch = 32"
      ],
      "execution_count": 0,
      "outputs": []
    },
    {
      "cell_type": "markdown",
      "metadata": {
        "id": "OISB58dgihxE",
        "colab_type": "text"
      },
      "source": [
        "## Model Functions\n",
        "\n",
        "Funciones que serán usados en la definición e implementación de los modelos.\n",
        "El propósito es disminuir la cantidad de código que se tiene que escribir"
      ]
    },
    {
      "cell_type": "markdown",
      "metadata": {
        "id": "-Xx6TtMsjiFj",
        "colab_type": "text"
      },
      "source": [
        "#### Models Definitions"
      ]
    },
    {
      "cell_type": "code",
      "metadata": {
        "id": "SZ2g2SvsmfOK",
        "colab_type": "code",
        "colab": {}
      },
      "source": [
        "# 2 Hidden Layer Model Definition\n",
        "def model2h(inputShape):\n",
        "  model = Sequential([\n",
        "      Dense(1024, activation='relu', input_shape=(inputShape,)),\n",
        "      Dense(512, activation='relu'),\n",
        "      Dense(6, activation='softmax')\n",
        "  ])\n",
        "  model.compile(optimizer='adam',\n",
        "              loss='sparse_categorical_crossentropy',\n",
        "              metrics=['accuracy'])\n",
        "  \n",
        "  return model"
      ],
      "execution_count": 0,
      "outputs": []
    },
    {
      "cell_type": "code",
      "metadata": {
        "id": "B2F0QBq-jObi",
        "colab_type": "code",
        "colab": {}
      },
      "source": [
        "# 3 Hidden Layer Model Definition\n",
        "def model3h(inputShape):\n",
        "  model = Sequential([\n",
        "      Dense(1024, activation='relu', input_shape=(inputShape,)),\n",
        "      Dense(512, activation='relu'),\n",
        "      Dense(256, activation='relu'),\n",
        "      Dense(6, activation='softmax')\n",
        "  ])\n",
        "  model.compile(optimizer='adam',\n",
        "              loss='sparse_categorical_crossentropy',\n",
        "              metrics=['accuracy'])\n",
        "  \n",
        "  return model"
      ],
      "execution_count": 0,
      "outputs": []
    },
    {
      "cell_type": "code",
      "metadata": {
        "id": "dvXUQwqqmSyA",
        "colab_type": "code",
        "colab": {}
      },
      "source": [
        "# 4 Hidden Layer Model Definition\n",
        "def model4h(inputShape):\n",
        "  model = Sequential([\n",
        "      Dense(1024, activation='relu', input_shape=(inputShape,)),\n",
        "      Dense(512, activation='relu'),\n",
        "      Dense(256, activation='relu'),\n",
        "      Dense(128, activation='relu'),\n",
        "      Dense(6, activation='softmax')\n",
        "  ])\n",
        "  model.compile(optimizer='adam',\n",
        "              loss='sparse_categorical_crossentropy',\n",
        "              metrics=['accuracy'])\n",
        "  \n",
        "  return model"
      ],
      "execution_count": 0,
      "outputs": []
    },
    {
      "cell_type": "code",
      "metadata": {
        "colab_type": "code",
        "id": "qQIQaLWSvwb3",
        "colab": {}
      },
      "source": [
        "# 5 Hidden Layer Model Definition\n",
        "def model5h(inputShape):\n",
        "  model = Sequential([\n",
        "      Dense(1024, activation='relu', input_shape=(inputShape,)),\n",
        "      Dense(512, activation='relu'),\n",
        "      Dense(256, activation='relu'),\n",
        "      Dense(128, activation='relu'),\n",
        "      Dense(64, activation='relu'),\n",
        "      Dense(6, activation='softmax')\n",
        "  ])\n",
        "  model.compile(optimizer='adam',\n",
        "              loss='sparse_categorical_crossentropy',\n",
        "              metrics=['accuracy'])\n",
        "  \n",
        "  return model"
      ],
      "execution_count": 0,
      "outputs": []
    },
    {
      "cell_type": "markdown",
      "metadata": {
        "id": "LEvN8wPKj48g",
        "colab_type": "text"
      },
      "source": [
        "#### Fit Function"
      ]
    },
    {
      "cell_type": "code",
      "metadata": {
        "id": "j6rE2Na2kDkJ",
        "colab_type": "code",
        "colab": {}
      },
      "source": [
        "def train_model(model, data, labels):\n",
        "  print(\"Training\")\n",
        "  return model.fit(data,\n",
        "                      labels,\n",
        "                      epochs=epochs,\n",
        "                      #validation_data=validation_split,\n",
        "                      batch_size=batch,\n",
        "                      validation_split=split\n",
        "                    )"
      ],
      "execution_count": 0,
      "outputs": []
    },
    {
      "cell_type": "markdown",
      "metadata": {
        "id": "82NDQJ-0nwMR",
        "colab_type": "text"
      },
      "source": [
        "#### Evaluation Function"
      ]
    },
    {
      "cell_type": "code",
      "metadata": {
        "id": "ZBhfVIQmn4aF",
        "colab_type": "code",
        "colab": {}
      },
      "source": [
        "def evaluate_model(model, data, labels):\n",
        "  print(\"\\nEvaluation\")\n",
        "  return model.evaluate(data, labels)"
      ],
      "execution_count": 0,
      "outputs": []
    },
    {
      "cell_type": "markdown",
      "metadata": {
        "id": "RdAVBZYElbhS",
        "colab_type": "text"
      },
      "source": [
        "#### Prediction Function"
      ]
    },
    {
      "cell_type": "code",
      "metadata": {
        "id": "xr9sUQlKlgMX",
        "colab_type": "code",
        "colab": {}
      },
      "source": [
        "def predictions_model(model, data):\n",
        "  return model.predict(data)"
      ],
      "execution_count": 0,
      "outputs": []
    },
    {
      "cell_type": "markdown",
      "metadata": {
        "id": "et-2vQAKqh9L",
        "colab_type": "text"
      },
      "source": [
        "## Splitting Dataset Functions\n",
        "Funciones que serán usadas para separar el dataset en los distintos sub-datasets para realizar las distintas pruebas .\n",
        "El propósito es disminuir la cantidad de código que se tiene que escribir\n",
        "\n",
        "Luego, para cada sub-dataset, lo particionamos en:\n",
        "\n",
        "*   75% training\n",
        "*   25% test\n",
        "\n",
        "Durante el entrenamiento del modelo, el dataset de training se parte en:\n",
        "\n",
        "\n",
        "\n",
        "*   80% training\n",
        "*   20% validation\n",
        "\n"
      ]
    },
    {
      "cell_type": "markdown",
      "metadata": {
        "id": "P9vX50Y4rJMf",
        "colab_type": "text"
      },
      "source": [
        "### All Features\n",
        "Únicamente se separan los labels y los datos"
      ]
    },
    {
      "cell_type": "code",
      "metadata": {
        "id": "s869t1gdroas",
        "colab_type": "code",
        "colab": {}
      },
      "source": [
        "def all_features(dataset):\n",
        "  \n",
        "  train_split = dataset.sample(frac = 0.75)\n",
        "  test_split = dataset.drop(train_split.index)\n",
        "\n",
        "  train_labels = train_split['Classcode']\n",
        "  train_data = train_split\n",
        "  train_data = train_data.drop(columns=['Classcode'])\n",
        "\n",
        "  test_labels = test_split['Classcode']\n",
        "  test_data = test_split\n",
        "  test_data = test_data.drop(columns=['Classcode'])\n",
        "\n",
        "  return train_data, train_labels, test_data, test_labels \n"
      ],
      "execution_count": 0,
      "outputs": []
    },
    {
      "cell_type": "code",
      "metadata": {
        "id": "dKPn08gScWu5",
        "colab_type": "code",
        "colab": {}
      },
      "source": [
        ""
      ],
      "execution_count": 0,
      "outputs": []
    },
    {
      "cell_type": "markdown",
      "metadata": {
        "id": "fdnsSzqdv9H5",
        "colab_type": "text"
      },
      "source": [
        "### Clinical Features\n",
        "\n",
        "Se obtienen únicamente los features que son clínicos"
      ]
    },
    {
      "cell_type": "code",
      "metadata": {
        "colab_type": "code",
        "id": "og0PjcK8A4xZ",
        "colab": {}
      },
      "source": [
        "def clinical_features(dataset):\n",
        "  subset = dataset[['erythema', 'scaling', 'definite borders', 'itching', 'koebner phenomenon', \n",
        "              'polygonal papules', 'follicular papules', 'oral mucosal involvement', \n",
        "              'knee and elbow involvement', 'scalp involvement', 'history', 'Age', 'Classcode']]\n",
        "\n",
        "  train_split = subset.sample(frac = 0.75,random_state=42)\n",
        "  test_split = subset.drop(train_split.index)\n",
        "  \n",
        "  train_labels = train_split['Classcode']\n",
        "  train_data = train_split\n",
        "  train_data = train_data.drop(columns=['Classcode'])\n",
        "\n",
        "  test_labels = test_split['Classcode']\n",
        "  test_data = test_split\n",
        "  test_data = test_data.drop(columns=['Classcode'])\n",
        "\n",
        "  return train_data, train_labels, test_data, test_labels "
      ],
      "execution_count": 0,
      "outputs": []
    },
    {
      "cell_type": "markdown",
      "metadata": {
        "id": "0wsRsmjcwFIm",
        "colab_type": "text"
      },
      "source": [
        "### Histopathological Features\n",
        "\n",
        "Se obtienen únicamente los features que son histopatológicos"
      ]
    },
    {
      "cell_type": "code",
      "metadata": {
        "id": "i83N6MoRCWzX",
        "colab_type": "code",
        "colab": {}
      },
      "source": [
        "def histopathological_features(dataset):\n",
        "  subset = dataset[['melanin incontinence', 'eosinophils in the infiltrate', 'PNL infiltrate', \n",
        "              'fibrosis of the papillary dermis', 'exocytosis', 'acanthosis', 'hyperkeratosis', \n",
        "              'parakeratosis', 'clubbing of the rete ridges', 'elongation of the rete ridges', \n",
        "              'thinning of the suprapapillary epidermis', 'spongiform pustule', 'munro microabcess',\n",
        "              'focal hypergranulosis', 'disappearance of the granular layer', \n",
        "              'vacuolisation and damage of basal layer', 'spongiosis', \n",
        "              'saw-tooth appearance of retes', 'follicular horn plug', \n",
        "              'perifollicular parakeratosis', 'inflammatory monoluclear inflitrate', 'band-like infiltrate','Age', 'Classcode']]\n",
        "\n",
        "  train_split = subset.sample(frac = 0.75)#,random_state=42)\n",
        "  test_split = subset.drop(train_split.index)\n",
        "  \n",
        "  train_labels = train_split['Classcode']\n",
        "  train_data = train_split\n",
        "  train_data = train_data.drop(columns=['Classcode'])\n",
        "\n",
        "  test_labels = test_split['Classcode']\n",
        "  test_data = test_split\n",
        "  test_data = test_data.drop(columns=['Classcode'])\n",
        "\n",
        "  return train_data, train_labels, test_data, test_labels "
      ],
      "execution_count": 0,
      "outputs": []
    },
    {
      "cell_type": "markdown",
      "metadata": {
        "id": "0Y-_yUWBwJMt",
        "colab_type": "text"
      },
      "source": [
        "### Important Features from the Correlation Heatmap\n",
        "\n",
        "Se obtienen los features más importantes según el heatmap, aquellos que tiene una corealacion menor a 90%"
      ]
    },
    {
      "cell_type": "code",
      "metadata": {
        "id": "Ep6UPDB7L7dK",
        "colab_type": "code",
        "colab": {}
      },
      "source": [
        "def heatmap_features(dataset):\n",
        "  subset = dataset[['Age','inflammatory monoluclear inflitrate','spongiosis',\n",
        "                    'disappearance of the granular layer','munro microabcess','spongiform pustule',\n",
        "                    'elongation of the rete ridges','parakeratosis','hyperkeratosis','acanthosis','exocytosis',\n",
        "                    'fibrosis of the papillary dermis','PNL infiltrate','eosinophils in the infiltrate',\n",
        "                    'history','scalp involvement','knee and elbow involvement','follicular papules',\n",
        "                    'koebner phenomenon','itching','definite borders','scaling','erythema', 'Classcode']]\n",
        "\n",
        "  train_split = subset.sample(frac = 0.75)\n",
        "  test_split = subset.drop(train_split.index)\n",
        "  \n",
        "  train_labels = train_split['Classcode']\n",
        "  train_data = train_split\n",
        "  train_data = train_data.drop(columns=['Classcode'])\n",
        "\n",
        "  test_labels = test_split['Classcode']\n",
        "  test_data = test_split\n",
        "  test_data = test_data.drop(columns=['Classcode'])\n",
        "\n",
        "  return train_data, train_labels, test_data, test_labels "
      ],
      "execution_count": 0,
      "outputs": []
    },
    {
      "cell_type": "markdown",
      "metadata": {
        "id": "nPi9SW7ffKdS",
        "colab_type": "text"
      },
      "source": [
        "## Model 1: 2 hidden layers"
      ]
    },
    {
      "cell_type": "code",
      "metadata": {
        "id": "ViIxPdWjFN5G",
        "colab_type": "code",
        "colab": {}
      },
      "source": [
        "# A matrix where all model 1's info is stored\n",
        "# Rows represent the test number\n",
        "# Columns represent: \n",
        "#   1. Model\n",
        "#   2. Evaluation\n",
        "#   3. Predictions\n",
        "summary_model1 = [[0 for x in range(3)] for y in range(4)]\n"
      ],
      "execution_count": 0,
      "outputs": []
    },
    {
      "cell_type": "markdown",
      "metadata": {
        "id": "mz4dBGsefOgO",
        "colab_type": "text"
      },
      "source": [
        "### Test 1: All Features"
      ]
    },
    {
      "cell_type": "code",
      "metadata": {
        "id": "WpwahNWLe0Aj",
        "colab_type": "code",
        "outputId": "bec3d376-3ef3-4c04-e002-de5dc128e184",
        "colab": {
          "base_uri": "https://localhost:8080/",
          "height": 272
        }
      },
      "source": [
        "train_data, train_labels, test_data, test_labels = all_features(df)\n",
        "\n",
        "# Model\n",
        "summary_model1[0][0] = model2h(train_data.shape[1])\n",
        "model = summary_model1[0][0]\n",
        "\n",
        "# Training\n",
        "train_model(model, train_data, train_labels)\n",
        "\n",
        "# Evaluation\n",
        "summary_model1[0][1] = evaluate_model(model, test_data, test_labels)\n",
        "\n",
        "# Predictions\n",
        "summary_model1[0][2] =  predictions_model(model, test_data)"
      ],
      "execution_count": 25,
      "outputs": [
        {
          "output_type": "stream",
          "text": [
            "Training\n",
            "Train on 219 samples, validate on 55 samples\n",
            "Epoch 1/5\n",
            "219/219 [==============================] - 1s 3ms/sample - loss: 2.9789 - accuracy: 0.2694 - val_loss: 1.8920 - val_accuracy: 0.3091\n",
            "Epoch 2/5\n",
            "219/219 [==============================] - 0s 324us/sample - loss: 1.2649 - accuracy: 0.5205 - val_loss: 0.6671 - val_accuracy: 0.7273\n",
            "Epoch 3/5\n",
            "219/219 [==============================] - 0s 289us/sample - loss: 0.5983 - accuracy: 0.7671 - val_loss: 0.3839 - val_accuracy: 0.9091\n",
            "Epoch 4/5\n",
            "219/219 [==============================] - 0s 323us/sample - loss: 0.3318 - accuracy: 0.9087 - val_loss: 0.3794 - val_accuracy: 0.9273\n",
            "Epoch 5/5\n",
            "219/219 [==============================] - 0s 311us/sample - loss: 0.2190 - accuracy: 0.9498 - val_loss: 0.1922 - val_accuracy: 0.9636\n",
            "\n",
            "Evaluation\n",
            "91/91 [==============================] - 0s 108us/sample - loss: 0.2196 - accuracy: 0.9011\n"
          ],
          "name": "stdout"
        }
      ]
    },
    {
      "cell_type": "markdown",
      "metadata": {
        "id": "NhLHs8dNfytj",
        "colab_type": "text"
      },
      "source": [
        "### Test 2: Clinical Features"
      ]
    },
    {
      "cell_type": "code",
      "metadata": {
        "id": "kcj1AKQpY6bG",
        "colab_type": "code",
        "outputId": "fdf5f087-25e4-4d96-ef8a-9ee555bf5dd1",
        "colab": {
          "base_uri": "https://localhost:8080/",
          "height": 272
        }
      },
      "source": [
        "train_data, train_labels, test_data, test_labels = clinical_features(df)\n",
        "\n",
        "# Model\n",
        "summary_model1[1][0] = model2h(train_data.shape[1])\n",
        "model = summary_model1[1][0]\n",
        "\n",
        "# Training\n",
        "train_model(model, train_data, train_labels)\n",
        "\n",
        "# Evaluation\n",
        "summary_model1[1][1] = evaluate_model(model, test_data, test_labels)\n",
        "\n",
        "# Predictions\n",
        "summary_model1[1][2] =  predictions_model(model, test_data)"
      ],
      "execution_count": 26,
      "outputs": [
        {
          "output_type": "stream",
          "text": [
            "Training\n",
            "Train on 219 samples, validate on 55 samples\n",
            "Epoch 1/5\n",
            "219/219 [==============================] - 0s 2ms/sample - loss: 3.6879 - accuracy: 0.2192 - val_loss: 2.1808 - val_accuracy: 0.3818\n",
            "Epoch 2/5\n",
            "219/219 [==============================] - 0s 288us/sample - loss: 2.5515 - accuracy: 0.3607 - val_loss: 1.0963 - val_accuracy: 0.6545\n",
            "Epoch 3/5\n",
            "219/219 [==============================] - 0s 303us/sample - loss: 1.5308 - accuracy: 0.4475 - val_loss: 0.9504 - val_accuracy: 0.6727\n",
            "Epoch 4/5\n",
            "219/219 [==============================] - 0s 287us/sample - loss: 1.1523 - accuracy: 0.5434 - val_loss: 0.7272 - val_accuracy: 0.7636\n",
            "Epoch 5/5\n",
            "219/219 [==============================] - 0s 322us/sample - loss: 0.9763 - accuracy: 0.6027 - val_loss: 0.7648 - val_accuracy: 0.7091\n",
            "\n",
            "Evaluation\n",
            "91/91 [==============================] - 0s 128us/sample - loss: 0.8216 - accuracy: 0.7253\n"
          ],
          "name": "stdout"
        }
      ]
    },
    {
      "cell_type": "markdown",
      "metadata": {
        "id": "aVv13aMUf1ZT",
        "colab_type": "text"
      },
      "source": [
        "### Test 3: Histopathological Features"
      ]
    },
    {
      "cell_type": "code",
      "metadata": {
        "id": "4_GTXYuBZCq1",
        "colab_type": "code",
        "outputId": "f1192f49-f682-4033-de71-387ab0b0aa10",
        "colab": {
          "base_uri": "https://localhost:8080/",
          "height": 272
        }
      },
      "source": [
        "train_data, train_labels, test_data, test_labels = histopathological_features(df)\n",
        "\n",
        "# Model\n",
        "summary_model1[2][0] = model2h(train_data.shape[1])\n",
        "model = summary_model1[2][0]\n",
        "\n",
        "# Training\n",
        "train_model(model, train_data, train_labels)\n",
        "\n",
        "# Evaluation\n",
        "summary_model1[2][1] = evaluate_model(model, test_data, test_labels)\n",
        "\n",
        "# Predictions\n",
        "summary_model1[2][2] =  predictions_model(model, test_data)"
      ],
      "execution_count": 27,
      "outputs": [
        {
          "output_type": "stream",
          "text": [
            "Training\n",
            "Train on 219 samples, validate on 55 samples\n",
            "Epoch 1/5\n",
            "219/219 [==============================] - 0s 2ms/sample - loss: 2.6003 - accuracy: 0.2648 - val_loss: 2.1835 - val_accuracy: 0.4364\n",
            "Epoch 2/5\n",
            "219/219 [==============================] - 0s 318us/sample - loss: 1.5078 - accuracy: 0.5068 - val_loss: 1.2762 - val_accuracy: 0.4909\n",
            "Epoch 3/5\n",
            "219/219 [==============================] - 0s 291us/sample - loss: 0.8076 - accuracy: 0.6986 - val_loss: 0.8293 - val_accuracy: 0.7818\n",
            "Epoch 4/5\n",
            "219/219 [==============================] - 0s 298us/sample - loss: 0.5304 - accuracy: 0.8447 - val_loss: 0.4800 - val_accuracy: 0.8364\n",
            "Epoch 5/5\n",
            "219/219 [==============================] - 0s 295us/sample - loss: 0.4364 - accuracy: 0.8402 - val_loss: 0.3491 - val_accuracy: 0.8727\n",
            "\n",
            "Evaluation\n",
            "91/91 [==============================] - 0s 137us/sample - loss: 0.3466 - accuracy: 0.8352\n"
          ],
          "name": "stdout"
        }
      ]
    },
    {
      "cell_type": "markdown",
      "metadata": {
        "id": "P2fd3aJWgj3b",
        "colab_type": "text"
      },
      "source": [
        "### Test 4: Important Features from the Correlation Heatmap"
      ]
    },
    {
      "cell_type": "code",
      "metadata": {
        "id": "YexM28sSZHMc",
        "colab_type": "code",
        "colab": {
          "base_uri": "https://localhost:8080/",
          "height": 272
        },
        "outputId": "3ee292dc-4150-4bd9-abf1-2ca92476accd"
      },
      "source": [
        "train_data, train_labels, test_data, test_labels = heatmap_features(df)\n",
        "\n",
        "# Model\n",
        "summary_model1[3][0] = model2h(train_data.shape[1])\n",
        "model = summary_model1[3][0]\n",
        "\n",
        "# Training\n",
        "train_model(model, train_data, train_labels)\n",
        "\n",
        "# Evaluation\n",
        "summary_model1[3][1] = evaluate_model(model, test_data, test_labels)\n",
        "\n",
        "# Predictions\n",
        "summary_model1[3][2] =  predictions_model(model, test_data)"
      ],
      "execution_count": 28,
      "outputs": [
        {
          "output_type": "stream",
          "text": [
            "Training\n",
            "Train on 219 samples, validate on 55 samples\n",
            "Epoch 1/5\n",
            "219/219 [==============================] - 0s 2ms/sample - loss: 2.8487 - accuracy: 0.2785 - val_loss: 1.5869 - val_accuracy: 0.3273\n",
            "Epoch 2/5\n",
            "219/219 [==============================] - 0s 310us/sample - loss: 1.3786 - accuracy: 0.4658 - val_loss: 1.4242 - val_accuracy: 0.7455\n",
            "Epoch 3/5\n",
            "219/219 [==============================] - 0s 308us/sample - loss: 1.1179 - accuracy: 0.7123 - val_loss: 0.7583 - val_accuracy: 0.6545\n",
            "Epoch 4/5\n",
            "219/219 [==============================] - 0s 325us/sample - loss: 0.6998 - accuracy: 0.7443 - val_loss: 0.6064 - val_accuracy: 0.7636\n",
            "Epoch 5/5\n",
            "219/219 [==============================] - 0s 302us/sample - loss: 0.4917 - accuracy: 0.8447 - val_loss: 0.3839 - val_accuracy: 0.8909\n",
            "\n",
            "Evaluation\n",
            "91/91 [==============================] - 0s 127us/sample - loss: 0.3163 - accuracy: 0.9231\n"
          ],
          "name": "stdout"
        }
      ]
    },
    {
      "cell_type": "markdown",
      "metadata": {
        "colab_type": "text",
        "id": "MWXeSRkIJdlE"
      },
      "source": [
        "## Model 2: 3 hidden layers"
      ]
    },
    {
      "cell_type": "code",
      "metadata": {
        "colab_type": "code",
        "id": "bFUa586TJdlK",
        "colab": {}
      },
      "source": [
        "# A matrix where all model 2's info is stored\n",
        "# Rows represent the test number\n",
        "# Columns represent: \n",
        "#   1. Model\n",
        "#   2. Evaluation\n",
        "#   3. Predictions\n",
        "summary_model2 = [[0 for x in range(3)] for y in range(4)]\n"
      ],
      "execution_count": 0,
      "outputs": []
    },
    {
      "cell_type": "markdown",
      "metadata": {
        "colab_type": "text",
        "id": "06erQVQ_JdlQ"
      },
      "source": [
        "### Test 1: All Features"
      ]
    },
    {
      "cell_type": "code",
      "metadata": {
        "colab_type": "code",
        "outputId": "fa9ccea0-44d0-4937-de79-b3aa35f868f6",
        "id": "tlEGZ5wlJdlR",
        "colab": {
          "base_uri": "https://localhost:8080/",
          "height": 272
        }
      },
      "source": [
        "train_data, train_labels, test_data, test_labels = all_features(df)\n",
        "\n",
        "# Model\n",
        "summary_model2[0][0] = model3h(train_data.shape[1])\n",
        "model = summary_model2[0][0]\n",
        "\n",
        "# Training\n",
        "train_model(model, train_data, train_labels)\n",
        "\n",
        "# Evaluation\n",
        "summary_model2[0][1] = evaluate_model(model, test_data, test_labels)\n",
        "\n",
        "# Predictions\n",
        "summary_model2[0][2] =  predictions_model(model, test_data)"
      ],
      "execution_count": 30,
      "outputs": [
        {
          "output_type": "stream",
          "text": [
            "Training\n",
            "Train on 219 samples, validate on 55 samples\n",
            "Epoch 1/5\n",
            "219/219 [==============================] - 0s 2ms/sample - loss: 1.9814 - accuracy: 0.3516 - val_loss: 0.9447 - val_accuracy: 0.8000\n",
            "Epoch 2/5\n",
            "219/219 [==============================] - 0s 369us/sample - loss: 0.9825 - accuracy: 0.6986 - val_loss: 0.5226 - val_accuracy: 0.9273\n",
            "Epoch 3/5\n",
            "219/219 [==============================] - 0s 358us/sample - loss: 0.5574 - accuracy: 0.8630 - val_loss: 0.2821 - val_accuracy: 0.9455\n",
            "Epoch 4/5\n",
            "219/219 [==============================] - 0s 383us/sample - loss: 0.3511 - accuracy: 0.9041 - val_loss: 0.2361 - val_accuracy: 0.9455\n",
            "Epoch 5/5\n",
            "219/219 [==============================] - 0s 332us/sample - loss: 0.2494 - accuracy: 0.9406 - val_loss: 0.1554 - val_accuracy: 0.9636\n",
            "\n",
            "Evaluation\n",
            "91/91 [==============================] - 0s 129us/sample - loss: 0.2242 - accuracy: 0.9011\n"
          ],
          "name": "stdout"
        }
      ]
    },
    {
      "cell_type": "markdown",
      "metadata": {
        "colab_type": "text",
        "id": "77y7CIOBJdla"
      },
      "source": [
        "### Test 2: Clinical Features"
      ]
    },
    {
      "cell_type": "code",
      "metadata": {
        "colab_type": "code",
        "outputId": "f710b9e6-7b3f-4f24-cbbf-72c897fd4897",
        "id": "pqGXGPsQJdlf",
        "colab": {
          "base_uri": "https://localhost:8080/",
          "height": 272
        }
      },
      "source": [
        "train_data, train_labels, test_data, test_labels = clinical_features(df)\n",
        "\n",
        "# Model\n",
        "summary_model2[1][0] = model3h(train_data.shape[1])\n",
        "model = summary_model2[1][0]\n",
        "\n",
        "# Training\n",
        "train_model(model, train_data, train_labels)\n",
        "\n",
        "# Evaluation\n",
        "summary_model2[1][1] = evaluate_model(model, test_data, test_labels)\n",
        "\n",
        "# Predictions\n",
        "summary_model2[1][2] =  predictions_model(model, test_data)"
      ],
      "execution_count": 31,
      "outputs": [
        {
          "output_type": "stream",
          "text": [
            "Training\n",
            "Train on 219 samples, validate on 55 samples\n",
            "Epoch 1/5\n",
            "219/219 [==============================] - 0s 2ms/sample - loss: 2.3375 - accuracy: 0.2648 - val_loss: 1.6562 - val_accuracy: 0.4909\n",
            "Epoch 2/5\n",
            "219/219 [==============================] - 0s 406us/sample - loss: 1.5499 - accuracy: 0.4247 - val_loss: 1.3692 - val_accuracy: 0.6000\n",
            "Epoch 3/5\n",
            "219/219 [==============================] - 0s 337us/sample - loss: 1.3627 - accuracy: 0.4521 - val_loss: 1.0351 - val_accuracy: 0.7455\n",
            "Epoch 4/5\n",
            "219/219 [==============================] - 0s 356us/sample - loss: 1.2374 - accuracy: 0.5342 - val_loss: 1.0019 - val_accuracy: 0.6000\n",
            "Epoch 5/5\n",
            "219/219 [==============================] - 0s 345us/sample - loss: 1.1028 - accuracy: 0.5251 - val_loss: 0.6469 - val_accuracy: 0.7455\n",
            "\n",
            "Evaluation\n",
            "91/91 [==============================] - 0s 142us/sample - loss: 0.7821 - accuracy: 0.6703\n"
          ],
          "name": "stdout"
        }
      ]
    },
    {
      "cell_type": "markdown",
      "metadata": {
        "colab_type": "text",
        "id": "rzZvGKCUJdlm"
      },
      "source": [
        "### Test 3: Histopathological Features"
      ]
    },
    {
      "cell_type": "code",
      "metadata": {
        "colab_type": "code",
        "outputId": "ffc9c988-94d4-4bd6-87ba-83e7bc8b95af",
        "id": "bgdiYNCTJdlo",
        "colab": {
          "base_uri": "https://localhost:8080/",
          "height": 272
        }
      },
      "source": [
        "train_data, train_labels, test_data, test_labels = histopathological_features(df)\n",
        "\n",
        "# Model\n",
        "summary_model2[2][0] = model3h(train_data.shape[1])\n",
        "model = summary_model2[2][0]\n",
        "\n",
        "# Training\n",
        "train_model(model, train_data, train_labels)\n",
        "\n",
        "# Evaluation\n",
        "summary_model2[2][1] = evaluate_model(model, test_data, test_labels)\n",
        "\n",
        "# Predictions\n",
        "summary_model2[2][2] =  predictions_model(model, test_data)"
      ],
      "execution_count": 32,
      "outputs": [
        {
          "output_type": "stream",
          "text": [
            "Training\n",
            "Train on 219 samples, validate on 55 samples\n",
            "Epoch 1/5\n",
            "219/219 [==============================] - 0s 2ms/sample - loss: 2.4744 - accuracy: 0.3014 - val_loss: 2.5662 - val_accuracy: 0.2182\n",
            "Epoch 2/5\n",
            "219/219 [==============================] - 0s 348us/sample - loss: 1.5623 - accuracy: 0.4658 - val_loss: 1.2156 - val_accuracy: 0.6000\n",
            "Epoch 3/5\n",
            "219/219 [==============================] - 0s 335us/sample - loss: 0.9281 - accuracy: 0.6621 - val_loss: 0.6834 - val_accuracy: 0.7636\n",
            "Epoch 4/5\n",
            "219/219 [==============================] - 0s 342us/sample - loss: 0.5895 - accuracy: 0.8037 - val_loss: 0.5317 - val_accuracy: 0.8545\n",
            "Epoch 5/5\n",
            "219/219 [==============================] - 0s 308us/sample - loss: 0.4101 - accuracy: 0.8721 - val_loss: 0.5214 - val_accuracy: 0.7636\n",
            "\n",
            "Evaluation\n",
            "91/91 [==============================] - 0s 127us/sample - loss: 0.4440 - accuracy: 0.8352\n"
          ],
          "name": "stdout"
        }
      ]
    },
    {
      "cell_type": "markdown",
      "metadata": {
        "colab_type": "text",
        "id": "Mad5ki4sJdlu"
      },
      "source": [
        "### Test 4: Important Features from the Correlation Heatmap"
      ]
    },
    {
      "cell_type": "code",
      "metadata": {
        "id": "hq2pEO3DKNfO",
        "colab_type": "code",
        "colab": {
          "base_uri": "https://localhost:8080/",
          "height": 272
        },
        "outputId": "08f4333b-5c33-44ed-c843-33bc1f227b7e"
      },
      "source": [
        "train_data, train_labels, test_data, test_labels = heatmap_features(df)\n",
        "\n",
        "# Model\n",
        "summary_model2[3][0] = model3h(train_data.shape[1])\n",
        "model = summary_model2[3][0]\n",
        "\n",
        "# Training\n",
        "train_model(model, train_data, train_labels)\n",
        "\n",
        "# Evaluation\n",
        "summary_model2[3][1] = evaluate_model(model, test_data, test_labels)\n",
        "\n",
        "# Predictions\n",
        "summary_model2[3][2] =  predictions_model(model, test_data)"
      ],
      "execution_count": 33,
      "outputs": [
        {
          "output_type": "stream",
          "text": [
            "Training\n",
            "Train on 219 samples, validate on 55 samples\n",
            "Epoch 1/5\n",
            "219/219 [==============================] - 0s 2ms/sample - loss: 2.4925 - accuracy: 0.2329 - val_loss: 1.8058 - val_accuracy: 0.3091\n",
            "Epoch 2/5\n",
            "219/219 [==============================] - 0s 367us/sample - loss: 1.5568 - accuracy: 0.3562 - val_loss: 1.2163 - val_accuracy: 0.7091\n",
            "Epoch 3/5\n",
            "219/219 [==============================] - 0s 330us/sample - loss: 1.1323 - accuracy: 0.5753 - val_loss: 0.9839 - val_accuracy: 0.7818\n",
            "Epoch 4/5\n",
            "219/219 [==============================] - 0s 403us/sample - loss: 0.8908 - accuracy: 0.7306 - val_loss: 0.7103 - val_accuracy: 0.8000\n",
            "Epoch 5/5\n",
            "219/219 [==============================] - 0s 345us/sample - loss: 0.5762 - accuracy: 0.8402 - val_loss: 0.6556 - val_accuracy: 0.6000\n",
            "\n",
            "Evaluation\n",
            "91/91 [==============================] - 0s 124us/sample - loss: 0.6950 - accuracy: 0.6374\n"
          ],
          "name": "stdout"
        }
      ]
    },
    {
      "cell_type": "markdown",
      "metadata": {
        "colab_type": "text",
        "id": "6JAgXU-dKLy0"
      },
      "source": [
        "## Model 3: 4 hidden layers"
      ]
    },
    {
      "cell_type": "code",
      "metadata": {
        "colab_type": "code",
        "id": "3npkXkOAKLy2",
        "colab": {}
      },
      "source": [
        "# A matrix where all model 3's info is stored\n",
        "# Rows represent the test number\n",
        "# Columns represent: \n",
        "#   1. Model\n",
        "#   2. Evaluation\n",
        "#   3. Predictions\n",
        "summary_model3 = [[0 for x in range(3)] for y in range(4)]\n"
      ],
      "execution_count": 0,
      "outputs": []
    },
    {
      "cell_type": "markdown",
      "metadata": {
        "colab_type": "text",
        "id": "I9YmuGsZKLy8"
      },
      "source": [
        "### Test 1: All Features"
      ]
    },
    {
      "cell_type": "code",
      "metadata": {
        "colab_type": "code",
        "outputId": "c7246f4f-4deb-44e3-ed86-a756f9dc31e5",
        "id": "sEcQRnNuKLy-",
        "colab": {
          "base_uri": "https://localhost:8080/",
          "height": 272
        }
      },
      "source": [
        "train_data, train_labels, test_data, test_labels = all_features(df)\n",
        "\n",
        "# Model\n",
        "summary_model3[0][0] = model4h(train_data.shape[1])\n",
        "model = summary_model3[0][0]\n",
        "\n",
        "# Training\n",
        "train_model(model, train_data, train_labels)\n",
        "\n",
        "# Evaluation\n",
        "summary_model3[0][1] = evaluate_model(model, test_data, test_labels)\n",
        "\n",
        "# Predictions\n",
        "summary_model3[0][2] =  predictions_model(model, test_data)"
      ],
      "execution_count": 35,
      "outputs": [
        {
          "output_type": "stream",
          "text": [
            "Training\n",
            "Train on 219 samples, validate on 55 samples\n",
            "Epoch 1/5\n",
            "219/219 [==============================] - 0s 2ms/sample - loss: 1.8045 - accuracy: 0.3699 - val_loss: 1.7084 - val_accuracy: 0.2727\n",
            "Epoch 2/5\n",
            "219/219 [==============================] - 0s 353us/sample - loss: 1.0540 - accuracy: 0.6301 - val_loss: 1.1294 - val_accuracy: 0.4364\n",
            "Epoch 3/5\n",
            "219/219 [==============================] - 0s 377us/sample - loss: 0.6433 - accuracy: 0.7945 - val_loss: 0.7004 - val_accuracy: 0.8000\n",
            "Epoch 4/5\n",
            "219/219 [==============================] - 0s 387us/sample - loss: 0.4122 - accuracy: 0.8767 - val_loss: 0.5114 - val_accuracy: 0.8182\n",
            "Epoch 5/5\n",
            "219/219 [==============================] - 0s 386us/sample - loss: 0.2689 - accuracy: 0.8995 - val_loss: 0.4251 - val_accuracy: 0.8364\n",
            "\n",
            "Evaluation\n",
            "91/91 [==============================] - 0s 144us/sample - loss: 0.2841 - accuracy: 0.8791\n"
          ],
          "name": "stdout"
        }
      ]
    },
    {
      "cell_type": "markdown",
      "metadata": {
        "colab_type": "text",
        "id": "dIag5Uo2KLzE"
      },
      "source": [
        "### Test 2: Clinical Features"
      ]
    },
    {
      "cell_type": "code",
      "metadata": {
        "colab_type": "code",
        "outputId": "d7570101-ebdf-4d35-e717-8813830fe013",
        "id": "QL95zg3vKLzF",
        "colab": {
          "base_uri": "https://localhost:8080/",
          "height": 272
        }
      },
      "source": [
        "train_data, train_labels, test_data, test_labels = clinical_features(df)\n",
        "\n",
        "# Model\n",
        "summary_model3[1][0] = model4h(train_data.shape[1])\n",
        "model = summary_model3[1][0]\n",
        "\n",
        "# Training\n",
        "train_model(model, train_data, train_labels)\n",
        "\n",
        "# Evaluation\n",
        "summary_model3[1][1] = evaluate_model(model, test_data, test_labels)\n",
        "\n",
        "# Predictions\n",
        "summary_model3[1][2] =  predictions_model(model, test_data)"
      ],
      "execution_count": 36,
      "outputs": [
        {
          "output_type": "stream",
          "text": [
            "Training\n",
            "Train on 219 samples, validate on 55 samples\n",
            "Epoch 1/5\n",
            "219/219 [==============================] - 0s 2ms/sample - loss: 1.9336 - accuracy: 0.2009 - val_loss: 1.4731 - val_accuracy: 0.6000\n",
            "Epoch 2/5\n",
            "219/219 [==============================] - 0s 416us/sample - loss: 1.5295 - accuracy: 0.3653 - val_loss: 1.6427 - val_accuracy: 0.2727\n",
            "Epoch 3/5\n",
            "219/219 [==============================] - 0s 405us/sample - loss: 1.6282 - accuracy: 0.3196 - val_loss: 1.3209 - val_accuracy: 0.5091\n",
            "Epoch 4/5\n",
            "219/219 [==============================] - 0s 390us/sample - loss: 1.3642 - accuracy: 0.4292 - val_loss: 1.0859 - val_accuracy: 0.6727\n",
            "Epoch 5/5\n",
            "219/219 [==============================] - 0s 356us/sample - loss: 1.2370 - accuracy: 0.5297 - val_loss: 0.7761 - val_accuracy: 0.6727\n",
            "\n",
            "Evaluation\n",
            "91/91 [==============================] - 0s 126us/sample - loss: 0.9679 - accuracy: 0.6484\n"
          ],
          "name": "stdout"
        }
      ]
    },
    {
      "cell_type": "markdown",
      "metadata": {
        "colab_type": "text",
        "id": "TLGjmWgwKLzL"
      },
      "source": [
        "### Test 3: Histopathological Features"
      ]
    },
    {
      "cell_type": "code",
      "metadata": {
        "colab_type": "code",
        "outputId": "9a41f89d-bb22-4c65-caaa-64c5676b6b7c",
        "id": "uDgX7MeaKLzN",
        "colab": {
          "base_uri": "https://localhost:8080/",
          "height": 272
        }
      },
      "source": [
        "train_data, train_labels, test_data, test_labels = histopathological_features(df)\n",
        "\n",
        "# Model\n",
        "summary_model3[2][0] = model4h(train_data.shape[1])\n",
        "model = summary_model3[2][0]\n",
        "\n",
        "# Training\n",
        "train_model(model, train_data, train_labels)\n",
        "\n",
        "# Evaluation\n",
        "summary_model3[2][1] = evaluate_model(model, test_data, test_labels)\n",
        "\n",
        "# Predictions\n",
        "summary_model3[2][2] =  predictions_model(model, test_data)"
      ],
      "execution_count": 37,
      "outputs": [
        {
          "output_type": "stream",
          "text": [
            "Training\n",
            "Train on 219 samples, validate on 55 samples\n",
            "Epoch 1/5\n",
            "219/219 [==============================] - 1s 3ms/sample - loss: 1.7818 - accuracy: 0.4110 - val_loss: 1.2521 - val_accuracy: 0.5636\n",
            "Epoch 2/5\n",
            "219/219 [==============================] - 0s 392us/sample - loss: 1.1685 - accuracy: 0.5936 - val_loss: 0.8605 - val_accuracy: 0.7273\n",
            "Epoch 3/5\n",
            "219/219 [==============================] - 0s 381us/sample - loss: 0.8280 - accuracy: 0.6621 - val_loss: 0.7703 - val_accuracy: 0.6364\n",
            "Epoch 4/5\n",
            "219/219 [==============================] - 0s 364us/sample - loss: 0.6446 - accuracy: 0.7717 - val_loss: 0.4346 - val_accuracy: 0.8364\n",
            "Epoch 5/5\n",
            "219/219 [==============================] - 0s 391us/sample - loss: 0.4266 - accuracy: 0.8128 - val_loss: 0.3561 - val_accuracy: 0.8364\n",
            "\n",
            "Evaluation\n",
            "91/91 [==============================] - 0s 159us/sample - loss: 0.3386 - accuracy: 0.8791\n"
          ],
          "name": "stdout"
        }
      ]
    },
    {
      "cell_type": "markdown",
      "metadata": {
        "colab_type": "text",
        "id": "KHEfY6RjKLzX"
      },
      "source": [
        "### Test 4: Important Features from the Correlation Heatmap"
      ]
    },
    {
      "cell_type": "code",
      "metadata": {
        "colab_type": "code",
        "id": "fWLqETwNKLzY",
        "colab": {
          "base_uri": "https://localhost:8080/",
          "height": 272
        },
        "outputId": "7e65d28a-81f2-45fc-a99d-275bb0acbb43"
      },
      "source": [
        "train_data, train_labels, test_data, test_labels = heatmap_features(df)\n",
        "\n",
        "# Model\n",
        "summary_model3[3][0] = model4h(train_data.shape[1])\n",
        "model = summary_model3[3][0]\n",
        "\n",
        "# Training\n",
        "train_model(model, train_data, train_labels)\n",
        "\n",
        "# Evaluation\n",
        "summary_model3[3][1] = evaluate_model(model, test_data, test_labels)\n",
        "\n",
        "# Predictions\n",
        "summary_model3[3][2] =  predictions_model(model, test_data)"
      ],
      "execution_count": 38,
      "outputs": [
        {
          "output_type": "stream",
          "text": [
            "Training\n",
            "Train on 219 samples, validate on 55 samples\n",
            "Epoch 1/5\n",
            "219/219 [==============================] - 0s 2ms/sample - loss: 2.0401 - accuracy: 0.2192 - val_loss: 1.4191 - val_accuracy: 0.3636\n",
            "Epoch 2/5\n",
            "219/219 [==============================] - 0s 359us/sample - loss: 1.5421 - accuracy: 0.4064 - val_loss: 1.4319 - val_accuracy: 0.5273\n",
            "Epoch 3/5\n",
            "219/219 [==============================] - 0s 413us/sample - loss: 1.2319 - accuracy: 0.6027 - val_loss: 1.0062 - val_accuracy: 0.6000\n",
            "Epoch 4/5\n",
            "219/219 [==============================] - 0s 366us/sample - loss: 0.9426 - accuracy: 0.6438 - val_loss: 0.8156 - val_accuracy: 0.6727\n",
            "Epoch 5/5\n",
            "219/219 [==============================] - 0s 406us/sample - loss: 0.7811 - accuracy: 0.7032 - val_loss: 0.6794 - val_accuracy: 0.6909\n",
            "\n",
            "Evaluation\n",
            "91/91 [==============================] - 0s 153us/sample - loss: 0.6518 - accuracy: 0.6484\n"
          ],
          "name": "stdout"
        }
      ]
    },
    {
      "cell_type": "markdown",
      "metadata": {
        "colab_type": "text",
        "id": "s8YUaywKMRT_"
      },
      "source": [
        "## Model 4: 5 hidden layers"
      ]
    },
    {
      "cell_type": "code",
      "metadata": {
        "colab_type": "code",
        "id": "ix8Ixv9cMRUI",
        "colab": {}
      },
      "source": [
        "# A matrix where all model 4's info is stored\n",
        "# Rows represent the test number\n",
        "# Columns represent: \n",
        "#   1. Model\n",
        "#   2. Evaluation\n",
        "#   3. Predictions\n",
        "summary_model4 = [[0 for x in range(3)] for y in range(4)]\n"
      ],
      "execution_count": 0,
      "outputs": []
    },
    {
      "cell_type": "markdown",
      "metadata": {
        "colab_type": "text",
        "id": "NcrXEL9SMRUS"
      },
      "source": [
        "### Test 1: All Features"
      ]
    },
    {
      "cell_type": "code",
      "metadata": {
        "colab_type": "code",
        "outputId": "cf6c748e-b86e-4f62-9d28-89e9f7acef70",
        "id": "E1LogbTfMRUU",
        "colab": {
          "base_uri": "https://localhost:8080/",
          "height": 272
        }
      },
      "source": [
        "train_data, train_labels, test_data, test_labels = all_features(df)\n",
        "\n",
        "# Model\n",
        "summary_model4[0][0] = model5h(train_data.shape[1])\n",
        "model = summary_model4[0][0]\n",
        "\n",
        "# Training\n",
        "train_model(model, train_data, train_labels)\n",
        "\n",
        "# Evaluation\n",
        "summary_model4[0][1] = evaluate_model(model, test_data, test_labels)\n",
        "\n",
        "# Predictions\n",
        "summary_model4[0][2] =  predictions_model(model, test_data)"
      ],
      "execution_count": 40,
      "outputs": [
        {
          "output_type": "stream",
          "text": [
            "Training\n",
            "Train on 219 samples, validate on 55 samples\n",
            "Epoch 1/5\n",
            "219/219 [==============================] - 0s 2ms/sample - loss: 1.7607 - accuracy: 0.2648 - val_loss: 1.4532 - val_accuracy: 0.3818\n",
            "Epoch 2/5\n",
            "219/219 [==============================] - 0s 361us/sample - loss: 1.2741 - accuracy: 0.4795 - val_loss: 1.0486 - val_accuracy: 0.5636\n",
            "Epoch 3/5\n",
            "219/219 [==============================] - 0s 385us/sample - loss: 0.9035 - accuracy: 0.6393 - val_loss: 0.7312 - val_accuracy: 0.6909\n",
            "Epoch 4/5\n",
            "219/219 [==============================] - 0s 330us/sample - loss: 0.6059 - accuracy: 0.7671 - val_loss: 0.5357 - val_accuracy: 0.8000\n",
            "Epoch 5/5\n",
            "219/219 [==============================] - 0s 356us/sample - loss: 0.4794 - accuracy: 0.8584 - val_loss: 0.4227 - val_accuracy: 0.8364\n",
            "\n",
            "Evaluation\n",
            "91/91 [==============================] - 0s 171us/sample - loss: 0.4551 - accuracy: 0.7912\n"
          ],
          "name": "stdout"
        }
      ]
    },
    {
      "cell_type": "markdown",
      "metadata": {
        "colab_type": "text",
        "id": "0_kZB6rLMRUd"
      },
      "source": [
        "### Test 2: Clinical Features"
      ]
    },
    {
      "cell_type": "code",
      "metadata": {
        "colab_type": "code",
        "outputId": "1c5802f8-d9a6-453c-977e-ff35da1da711",
        "id": "pkjq0MkLMRUi",
        "colab": {
          "base_uri": "https://localhost:8080/",
          "height": 272
        }
      },
      "source": [
        "train_data, train_labels, test_data, test_labels = clinical_features(df)\n",
        "\n",
        "# Model\n",
        "summary_model4[1][0] = model5h(train_data.shape[1])\n",
        "model = summary_model4[1][0]\n",
        "\n",
        "# Training\n",
        "train_model(model, train_data, train_labels)\n",
        "\n",
        "# Evaluation\n",
        "summary_model4[1][1] = evaluate_model(model, test_data, test_labels)\n",
        "\n",
        "# Predictions\n",
        "summary_model4[1][2] =  predictions_model(model, test_data)"
      ],
      "execution_count": 41,
      "outputs": [
        {
          "output_type": "stream",
          "text": [
            "Training\n",
            "Train on 219 samples, validate on 55 samples\n",
            "Epoch 1/5\n",
            "219/219 [==============================] - 0s 2ms/sample - loss: 1.7552 - accuracy: 0.2648 - val_loss: 1.6262 - val_accuracy: 0.2727\n",
            "Epoch 2/5\n",
            "219/219 [==============================] - 0s 371us/sample - loss: 1.6167 - accuracy: 0.3562 - val_loss: 1.6378 - val_accuracy: 0.1091\n",
            "Epoch 3/5\n",
            "219/219 [==============================] - 0s 403us/sample - loss: 1.6161 - accuracy: 0.2740 - val_loss: 1.4448 - val_accuracy: 0.4182\n",
            "Epoch 4/5\n",
            "219/219 [==============================] - 0s 359us/sample - loss: 1.5285 - accuracy: 0.4064 - val_loss: 1.2919 - val_accuracy: 0.4727\n",
            "Epoch 5/5\n",
            "219/219 [==============================] - 0s 350us/sample - loss: 1.3596 - accuracy: 0.4840 - val_loss: 1.1475 - val_accuracy: 0.6727\n",
            "\n",
            "Evaluation\n",
            "91/91 [==============================] - 0s 123us/sample - loss: 1.1428 - accuracy: 0.7033\n"
          ],
          "name": "stdout"
        }
      ]
    },
    {
      "cell_type": "markdown",
      "metadata": {
        "colab_type": "text",
        "id": "PPlN4UC7MRUo"
      },
      "source": [
        "### Test 3: Histopathological Features"
      ]
    },
    {
      "cell_type": "code",
      "metadata": {
        "colab_type": "code",
        "outputId": "30ddeb42-ebf8-495b-f7df-7133e96325d3",
        "id": "TETXfj8xMRUp",
        "colab": {
          "base_uri": "https://localhost:8080/",
          "height": 272
        }
      },
      "source": [
        "train_data, train_labels, test_data, test_labels = histopathological_features(df)\n",
        "\n",
        "# Model\n",
        "summary_model4[2][0] = model5h(train_data.shape[1])\n",
        "model = summary_model4[2][0]\n",
        "\n",
        "# Training\n",
        "train_model(model, train_data, train_labels)\n",
        "\n",
        "# Evaluation\n",
        "summary_model4[2][1] = evaluate_model(model, test_data, test_labels)\n",
        "\n",
        "# Predictions\n",
        "summary_model4[2][2] =  predictions_model(model, test_data)"
      ],
      "execution_count": 42,
      "outputs": [
        {
          "output_type": "stream",
          "text": [
            "Training\n",
            "Train on 219 samples, validate on 55 samples\n",
            "Epoch 1/5\n",
            "219/219 [==============================] - 0s 2ms/sample - loss: 1.6901 - accuracy: 0.2877 - val_loss: 1.5471 - val_accuracy: 0.3818\n",
            "Epoch 2/5\n",
            "219/219 [==============================] - 0s 360us/sample - loss: 1.3576 - accuracy: 0.5297 - val_loss: 1.2209 - val_accuracy: 0.4727\n",
            "Epoch 3/5\n",
            "219/219 [==============================] - 0s 349us/sample - loss: 1.0572 - accuracy: 0.5479 - val_loss: 0.8160 - val_accuracy: 0.6545\n",
            "Epoch 4/5\n",
            "219/219 [==============================] - 0s 349us/sample - loss: 0.7481 - accuracy: 0.7260 - val_loss: 0.5861 - val_accuracy: 0.8364\n",
            "Epoch 5/5\n",
            "219/219 [==============================] - 0s 387us/sample - loss: 0.5328 - accuracy: 0.8174 - val_loss: 0.5567 - val_accuracy: 0.8182\n",
            "\n",
            "Evaluation\n",
            "91/91 [==============================] - 0s 134us/sample - loss: 0.5141 - accuracy: 0.8352\n"
          ],
          "name": "stdout"
        }
      ]
    },
    {
      "cell_type": "markdown",
      "metadata": {
        "colab_type": "text",
        "id": "nygEEY7uMRUu"
      },
      "source": [
        "### Test 4: Important Features from the Correlation Heatmap"
      ]
    },
    {
      "cell_type": "code",
      "metadata": {
        "colab_type": "code",
        "id": "EdCFDHmpMRUw",
        "colab": {
          "base_uri": "https://localhost:8080/",
          "height": 272
        },
        "outputId": "e4581946-e407-4160-f59f-8ad2cbdc333c"
      },
      "source": [
        "train_data, train_labels, test_data, test_labels = heatmap_features(df)\n",
        "\n",
        "# Model\n",
        "summary_model4[3][0] = model5h(train_data.shape[1])\n",
        "model = summary_model4[3][0]\n",
        "\n",
        "# Training\n",
        "train_model(model, train_data, train_labels)\n",
        "\n",
        "# Evaluation\n",
        "summary_model4[3][1] = evaluate_model(model, test_data, test_labels)\n",
        "\n",
        "# Predictions\n",
        "summary_model4[3][2] =  predictions_model(model, test_data)"
      ],
      "execution_count": 43,
      "outputs": [
        {
          "output_type": "stream",
          "text": [
            "Training\n",
            "Train on 219 samples, validate on 55 samples\n",
            "Epoch 1/5\n",
            "219/219 [==============================] - 0s 2ms/sample - loss: 1.7726 - accuracy: 0.2283 - val_loss: 1.7674 - val_accuracy: 0.2000\n",
            "Epoch 2/5\n",
            "219/219 [==============================] - 0s 460us/sample - loss: 1.5499 - accuracy: 0.4338 - val_loss: 1.3682 - val_accuracy: 0.4545\n",
            "Epoch 3/5\n",
            "219/219 [==============================] - 0s 440us/sample - loss: 1.2582 - accuracy: 0.5205 - val_loss: 1.2926 - val_accuracy: 0.4727\n",
            "Epoch 4/5\n",
            "219/219 [==============================] - 0s 359us/sample - loss: 1.1323 - accuracy: 0.5662 - val_loss: 0.9586 - val_accuracy: 0.5455\n",
            "Epoch 5/5\n",
            "219/219 [==============================] - 0s 372us/sample - loss: 0.9004 - accuracy: 0.5936 - val_loss: 0.8235 - val_accuracy: 0.7091\n",
            "\n",
            "Evaluation\n",
            "91/91 [==============================] - 0s 137us/sample - loss: 0.7598 - accuracy: 0.6813\n"
          ],
          "name": "stdout"
        }
      ]
    },
    {
      "cell_type": "markdown",
      "metadata": {
        "colab_type": "text",
        "id": "mSRUzK6UMRU1"
      },
      "source": [
        "asdfasdf"
      ]
    },
    {
      "cell_type": "markdown",
      "metadata": {
        "id": "WLqgdQMIOeDI",
        "colab_type": "text"
      },
      "source": [
        "# Summary\n",
        "Resumen de los resultados.\n"
      ]
    },
    {
      "cell_type": "code",
      "metadata": {
        "id": "10n96mM6O_6p",
        "colab_type": "code",
        "colab": {}
      },
      "source": [
        "summary_models = [summary_model1, summary_model2, summary_model3, summary_model4]"
      ],
      "execution_count": 0,
      "outputs": []
    },
    {
      "cell_type": "code",
      "metadata": {
        "id": "VYPMZkE4ZByH",
        "colab_type": "code",
        "colab": {}
      },
      "source": [
        "# Function to print results of a given test\n",
        "def print_results(testNumber):\n",
        "  loss = [0 for x in range(4)]\n",
        "  accuracy = [0 for x in range(4)]\n",
        "\n",
        "  print(\"Results:\")\n",
        "  for i in range(4):\n",
        "    loss[i] = summary_models[i][testNumber - 1][1][0]\n",
        "    accuracy[i] = summary_models[i][testNumber - 1][1][1]\n",
        "    print(\"Model \", i+1, \": \",\n",
        "          \"\\tLoss: \", \"{0:.4f}\".format(loss[i]),\n",
        "          \"\\tAccuracy: \", \"{0:.4f}\".format(accuracy[i])\n",
        "          )\n",
        "  \n",
        "  maxAccuracy = max(accuracy)\n",
        "  minLoss = min(loss)\n",
        "\n",
        "  print(\"\\nModel With the best Accuracy: \", accuracy.index(maxAccuracy) + 1)\n",
        "  print(\"Model with the best loss: \", loss.index(minLoss) + 1)\n",
        "    "
      ],
      "execution_count": 0,
      "outputs": []
    },
    {
      "cell_type": "markdown",
      "metadata": {
        "id": "6ESbobkVOvZ4",
        "colab_type": "text"
      },
      "source": [
        "## Test 1: Results"
      ]
    },
    {
      "cell_type": "code",
      "metadata": {
        "colab_type": "code",
        "id": "umXJFD66MRU2",
        "outputId": "5bd7169c-2194-46de-e35d-d4307250d9ba",
        "colab": {
          "base_uri": "https://localhost:8080/",
          "height": 153
        }
      },
      "source": [
        "print_results(1)"
      ],
      "execution_count": 46,
      "outputs": [
        {
          "output_type": "stream",
          "text": [
            "Results:\n",
            "Model  1 :  \tLoss:  0.2196 \tAccuracy:  0.9011\n",
            "Model  2 :  \tLoss:  0.2242 \tAccuracy:  0.9011\n",
            "Model  3 :  \tLoss:  0.2841 \tAccuracy:  0.8791\n",
            "Model  4 :  \tLoss:  0.4551 \tAccuracy:  0.7912\n",
            "\n",
            "Model With the best Accuracy:  1\n",
            "Model with the best loss:  1\n"
          ],
          "name": "stdout"
        }
      ]
    },
    {
      "cell_type": "markdown",
      "metadata": {
        "id": "dOKOXl9sbRL3",
        "colab_type": "text"
      },
      "source": [
        "## Test 2: Results"
      ]
    },
    {
      "cell_type": "code",
      "metadata": {
        "id": "Ob3KTnYcbSeM",
        "colab_type": "code",
        "outputId": "dd700130-2a8f-43eb-a2a2-d1fb20d820cd",
        "colab": {
          "base_uri": "https://localhost:8080/",
          "height": 153
        }
      },
      "source": [
        "print_results(2)"
      ],
      "execution_count": 47,
      "outputs": [
        {
          "output_type": "stream",
          "text": [
            "Results:\n",
            "Model  1 :  \tLoss:  0.8216 \tAccuracy:  0.7253\n",
            "Model  2 :  \tLoss:  0.7821 \tAccuracy:  0.6703\n",
            "Model  3 :  \tLoss:  0.9679 \tAccuracy:  0.6484\n",
            "Model  4 :  \tLoss:  1.1428 \tAccuracy:  0.7033\n",
            "\n",
            "Model With the best Accuracy:  1\n",
            "Model with the best loss:  2\n"
          ],
          "name": "stdout"
        }
      ]
    },
    {
      "cell_type": "markdown",
      "metadata": {
        "id": "yEj6ngHxbULr",
        "colab_type": "text"
      },
      "source": [
        "## Test 3: Results"
      ]
    },
    {
      "cell_type": "code",
      "metadata": {
        "id": "krDtYYYgbV0V",
        "colab_type": "code",
        "outputId": "1bf71113-6ca0-4719-9707-f228105c72ff",
        "colab": {
          "base_uri": "https://localhost:8080/",
          "height": 153
        }
      },
      "source": [
        "print_results(3)"
      ],
      "execution_count": 48,
      "outputs": [
        {
          "output_type": "stream",
          "text": [
            "Results:\n",
            "Model  1 :  \tLoss:  0.3466 \tAccuracy:  0.8352\n",
            "Model  2 :  \tLoss:  0.4440 \tAccuracy:  0.8352\n",
            "Model  3 :  \tLoss:  0.3386 \tAccuracy:  0.8791\n",
            "Model  4 :  \tLoss:  0.5141 \tAccuracy:  0.8352\n",
            "\n",
            "Model With the best Accuracy:  3\n",
            "Model with the best loss:  3\n"
          ],
          "name": "stdout"
        }
      ]
    },
    {
      "cell_type": "markdown",
      "metadata": {
        "id": "3Lvdla9FbX2g",
        "colab_type": "text"
      },
      "source": [
        "## Test 4: Results"
      ]
    },
    {
      "cell_type": "code",
      "metadata": {
        "id": "jKL5rXp-bZYW",
        "colab_type": "code",
        "colab": {
          "base_uri": "https://localhost:8080/",
          "height": 153
        },
        "outputId": "00236291-7085-4dd2-aa7f-cfd1faf41966"
      },
      "source": [
        "print_results(4)"
      ],
      "execution_count": 49,
      "outputs": [
        {
          "output_type": "stream",
          "text": [
            "Results:\n",
            "Model  1 :  \tLoss:  0.3163 \tAccuracy:  0.9231\n",
            "Model  2 :  \tLoss:  0.6950 \tAccuracy:  0.6374\n",
            "Model  3 :  \tLoss:  0.6518 \tAccuracy:  0.6484\n",
            "Model  4 :  \tLoss:  0.7598 \tAccuracy:  0.6813\n",
            "\n",
            "Model With the best Accuracy:  1\n",
            "Model with the best loss:  1\n"
          ],
          "name": "stdout"
        }
      ]
    }
  ]
}